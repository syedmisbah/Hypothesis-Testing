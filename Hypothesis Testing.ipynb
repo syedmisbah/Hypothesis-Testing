{
 "cells": [
  {
   "cell_type": "markdown",
   "metadata": {},
   "source": [
    "# 1 Introduction"
   ]
  },
  {
   "cell_type": "markdown",
   "metadata": {},
   "source": [
    "The Northwind Traders are a fictitious company sourcing specialty foods from around the world. Their database holds information about shipping information, order details and employee/customer relationships. For this project, we are interested in **determining whether or not discount amount has a statistically significant effect on the amount of product ordered**. Additionally, we would like to **quantify the level at which the discount amount is significant, if such a relationship exists**."
   ]
  },
  {
   "cell_type": "markdown",
   "metadata": {},
   "source": [
    "### 1.1 Loading libraries"
   ]
  },
  {
   "cell_type": "code",
   "execution_count": 1,
   "metadata": {},
   "outputs": [],
   "source": [
    "import pandas as pd\n",
    "import numpy as np\n",
    "import matplotlib.pyplot as plt\n",
    "import seaborn as sns\n",
    "import sqlite3\n",
    "\n",
    "%matplotlib inline"
   ]
  },
  {
   "cell_type": "markdown",
   "metadata": {},
   "source": [
    "### 1.2 Retrieving data from database"
   ]
  },
  {
   "cell_type": "code",
   "execution_count": 10,
   "metadata": {},
   "outputs": [
    {
     "data": {
      "text/html": [
       "<div>\n",
       "<style scoped>\n",
       "    .dataframe tbody tr th:only-of-type {\n",
       "        vertical-align: middle;\n",
       "    }\n",
       "\n",
       "    .dataframe tbody tr th {\n",
       "        vertical-align: top;\n",
       "    }\n",
       "\n",
       "    .dataframe thead th {\n",
       "        text-align: right;\n",
       "    }\n",
       "</style>\n",
       "<table border=\"1\" class=\"dataframe\">\n",
       "  <thead>\n",
       "    <tr style=\"text-align: right;\">\n",
       "      <th></th>\n",
       "      <th>OrderID</th>\n",
       "      <th>ProductID</th>\n",
       "      <th>UnitPrice</th>\n",
       "      <th>Quantity</th>\n",
       "      <th>Discount</th>\n",
       "    </tr>\n",
       "  </thead>\n",
       "  <tbody>\n",
       "    <tr>\n",
       "      <th>0</th>\n",
       "      <td>10260</td>\n",
       "      <td>62</td>\n",
       "      <td>39.4</td>\n",
       "      <td>15</td>\n",
       "      <td>0.25</td>\n",
       "    </tr>\n",
       "    <tr>\n",
       "      <th>1</th>\n",
       "      <td>10260</td>\n",
       "      <td>70</td>\n",
       "      <td>12.0</td>\n",
       "      <td>21</td>\n",
       "      <td>0.25</td>\n",
       "    </tr>\n",
       "    <tr>\n",
       "      <th>2</th>\n",
       "      <td>10260</td>\n",
       "      <td>41</td>\n",
       "      <td>7.7</td>\n",
       "      <td>16</td>\n",
       "      <td>0.25</td>\n",
       "    </tr>\n",
       "    <tr>\n",
       "      <th>3</th>\n",
       "      <td>10263</td>\n",
       "      <td>16</td>\n",
       "      <td>13.9</td>\n",
       "      <td>60</td>\n",
       "      <td>0.25</td>\n",
       "    </tr>\n",
       "    <tr>\n",
       "      <th>4</th>\n",
       "      <td>10263</td>\n",
       "      <td>30</td>\n",
       "      <td>20.7</td>\n",
       "      <td>60</td>\n",
       "      <td>0.25</td>\n",
       "    </tr>\n",
       "  </tbody>\n",
       "</table>\n",
       "</div>"
      ],
      "text/plain": [
       "   OrderID  ProductID  UnitPrice  Quantity  Discount\n",
       "0    10260         62       39.4        15      0.25\n",
       "1    10260         70       12.0        21      0.25\n",
       "2    10260         41        7.7        16      0.25\n",
       "3    10263         16       13.9        60      0.25\n",
       "4    10263         30       20.7        60      0.25"
      ]
     },
     "execution_count": 10,
     "metadata": {},
     "output_type": "execute_result"
    }
   ],
   "source": [
    "# store results in a dataframe\n",
    "orders = pd.read_csv('orders_table_northwind.csv', header=None,names = ['OrderID','ProductID','UnitPrice','Quantity','Discount'])\n",
    "orders.head()"
   ]
  },
  {
   "cell_type": "markdown",
   "metadata": {},
   "source": [
    "The **OrderDetail** table contains information with the variables of interest: **discount amount** and **quantity**. Note how that a single order, as denoted by the OrderID, can have multiple products within it. For example, Order #10260 has 3 products (41, 62, 70) associated with it."
   ]
  },
  {
   "cell_type": "markdown",
   "metadata": {},
   "source": [
    "### 1.3 Data structure and content"
   ]
  },
  {
   "cell_type": "code",
   "execution_count": 11,
   "metadata": {},
   "outputs": [
    {
     "data": {
      "text/plain": [
       "OrderID      0\n",
       "ProductID    0\n",
       "UnitPrice    0\n",
       "Quantity     0\n",
       "Discount     0\n",
       "dtype: int64"
      ]
     },
     "execution_count": 11,
     "metadata": {},
     "output_type": "execute_result"
    }
   ],
   "source": [
    "orders.isna().sum()"
   ]
  },
  {
   "cell_type": "code",
   "execution_count": 12,
   "metadata": {},
   "outputs": [
    {
     "name": "stdout",
     "output_type": "stream",
     "text": [
      "<class 'pandas.core.frame.DataFrame'>\n",
      "RangeIndex: 2155 entries, 0 to 2154\n",
      "Data columns (total 5 columns):\n",
      "OrderID      2155 non-null int64\n",
      "ProductID    2155 non-null int64\n",
      "UnitPrice    2155 non-null float64\n",
      "Quantity     2155 non-null int64\n",
      "Discount     2155 non-null float64\n",
      "dtypes: float64(2), int64(3)\n",
      "memory usage: 84.3 KB\n"
     ]
    }
   ],
   "source": [
    "orders.info()"
   ]
  },
  {
   "cell_type": "markdown",
   "metadata": {},
   "source": [
    "A simple check shows no missing values in the dataset and all data columns are appropriately formatted. In total, there are 6 variables and 2155 entries."
   ]
  },
  {
   "cell_type": "code",
   "execution_count": 13,
   "metadata": {},
   "outputs": [
    {
     "data": {
      "text/html": [
       "<div>\n",
       "<style scoped>\n",
       "    .dataframe tbody tr th:only-of-type {\n",
       "        vertical-align: middle;\n",
       "    }\n",
       "\n",
       "    .dataframe tbody tr th {\n",
       "        vertical-align: top;\n",
       "    }\n",
       "\n",
       "    .dataframe thead th {\n",
       "        text-align: right;\n",
       "    }\n",
       "</style>\n",
       "<table border=\"1\" class=\"dataframe\">\n",
       "  <thead>\n",
       "    <tr style=\"text-align: right;\">\n",
       "      <th></th>\n",
       "      <th>OrderID</th>\n",
       "      <th>ProductID</th>\n",
       "      <th>UnitPrice</th>\n",
       "      <th>Quantity</th>\n",
       "      <th>Discount</th>\n",
       "    </tr>\n",
       "  </thead>\n",
       "  <tbody>\n",
       "    <tr>\n",
       "      <th>count</th>\n",
       "      <td>2155.000000</td>\n",
       "      <td>2155.000000</td>\n",
       "      <td>2155.000000</td>\n",
       "      <td>2155.000000</td>\n",
       "      <td>2155.000000</td>\n",
       "    </tr>\n",
       "    <tr>\n",
       "      <th>mean</th>\n",
       "      <td>10659.375870</td>\n",
       "      <td>40.793039</td>\n",
       "      <td>26.238135</td>\n",
       "      <td>23.843619</td>\n",
       "      <td>0.056167</td>\n",
       "    </tr>\n",
       "    <tr>\n",
       "      <th>std</th>\n",
       "      <td>241.378032</td>\n",
       "      <td>22.159019</td>\n",
       "      <td>29.844609</td>\n",
       "      <td>19.061357</td>\n",
       "      <td>0.083450</td>\n",
       "    </tr>\n",
       "    <tr>\n",
       "      <th>min</th>\n",
       "      <td>10248.000000</td>\n",
       "      <td>1.000000</td>\n",
       "      <td>2.000000</td>\n",
       "      <td>1.000000</td>\n",
       "      <td>0.000000</td>\n",
       "    </tr>\n",
       "    <tr>\n",
       "      <th>25%</th>\n",
       "      <td>10451.000000</td>\n",
       "      <td>22.000000</td>\n",
       "      <td>12.000000</td>\n",
       "      <td>10.000000</td>\n",
       "      <td>0.000000</td>\n",
       "    </tr>\n",
       "    <tr>\n",
       "      <th>50%</th>\n",
       "      <td>10657.000000</td>\n",
       "      <td>41.000000</td>\n",
       "      <td>18.400000</td>\n",
       "      <td>20.000000</td>\n",
       "      <td>0.000000</td>\n",
       "    </tr>\n",
       "    <tr>\n",
       "      <th>75%</th>\n",
       "      <td>10862.500000</td>\n",
       "      <td>60.000000</td>\n",
       "      <td>32.000000</td>\n",
       "      <td>30.000000</td>\n",
       "      <td>0.100000</td>\n",
       "    </tr>\n",
       "    <tr>\n",
       "      <th>max</th>\n",
       "      <td>11077.000000</td>\n",
       "      <td>77.000000</td>\n",
       "      <td>263.500000</td>\n",
       "      <td>130.000000</td>\n",
       "      <td>0.250000</td>\n",
       "    </tr>\n",
       "  </tbody>\n",
       "</table>\n",
       "</div>"
      ],
      "text/plain": [
       "            OrderID    ProductID    UnitPrice     Quantity     Discount\n",
       "count   2155.000000  2155.000000  2155.000000  2155.000000  2155.000000\n",
       "mean   10659.375870    40.793039    26.238135    23.843619     0.056167\n",
       "std      241.378032    22.159019    29.844609    19.061357     0.083450\n",
       "min    10248.000000     1.000000     2.000000     1.000000     0.000000\n",
       "25%    10451.000000    22.000000    12.000000    10.000000     0.000000\n",
       "50%    10657.000000    41.000000    18.400000    20.000000     0.000000\n",
       "75%    10862.500000    60.000000    32.000000    30.000000     0.100000\n",
       "max    11077.000000    77.000000   263.500000   130.000000     0.250000"
      ]
     },
     "execution_count": 13,
     "metadata": {},
     "output_type": "execute_result"
    }
   ],
   "source": [
    "orders.describe()"
   ]
  },
  {
   "cell_type": "markdown",
   "metadata": {},
   "source": [
    "The mean quantity ordered is 23.8 items and the highest number of items ordered is 130 while the lowest is 1. Customers receive a mean discount of roughly 5% while the largest discount applied was 25%. Let's visualize the distribution of quantity of items ordered."
   ]
  },
  {
   "cell_type": "code",
   "execution_count": 14,
   "metadata": {},
   "outputs": [
    {
     "name": "stderr",
     "output_type": "stream",
     "text": [
      "C:\\Users\\misba\\Anaconda3\\lib\\site-packages\\scipy\\stats\\stats.py:1713: FutureWarning: Using a non-tuple sequence for multidimensional indexing is deprecated; use `arr[tuple(seq)]` instead of `arr[seq]`. In the future this will be interpreted as an array index, `arr[np.array(seq)]`, which will result either in an error or a different result.\n",
      "  return np.add.reduce(sorted[indexer] * weights, axis=axis) / sumval\n"
     ]
    },
    {
     "data": {
      "text/plain": [
       "Text(0.5, 0, 'quantity of product ordered')"
      ]
     },
     "execution_count": 14,
     "metadata": {},
     "output_type": "execute_result"
    },
    {
     "data": {
      "image/png": "[encoded data removed]",
      "text/plain": [
       "<Figure size 1440x720 with 1 Axes>"
      ]
     },
     "metadata": {},
     "output_type": "display_data"
    }
   ],
   "source": [
    "sns.set_style('white')\n",
    "\n",
    "plt.figure(figsize=(20, 10))\n",
    "sns.distplot(orders['Quantity'])\n",
    "plt.title('Distribution of quantity ordered', fontsize=16)\n",
    "plt.xlabel('quantity of product ordered', fontsize=16)"
   ]
  },
  {
   "cell_type": "markdown",
   "metadata": {},
   "source": [
    "The distribution is skewed right and non-normal, so we will rely heavily on the Central Limit Theorem (CLT) for parameter estimation and hypothesis testing."
   ]
  },
  {
   "cell_type": "markdown",
   "metadata": {},
   "source": [
    "# 2 Experiment design"
   ]
  },
  {
   "cell_type": "markdown",
   "metadata": {},
   "source": [
    "### 2.1 Setting up control and experimental groups"
   ]
  },
  {
   "cell_type": "markdown",
   "metadata": {},
   "source": [
    "We are interested in testing whether a discount affects customer shopping behavior. More specifically, we want to test whether discount amount has a statistically significant effect on the amount of product ordered. In order to do this, we need to design this experiment with a control and experimental group to measure the effect of discount (or lack of) on quantity ordered.\n",
    "\n",
    "* The **control** group is comprised of customers who did not receive a discount.\n",
    "* The **experimental** group is comprised of customers who did receive a discount."
   ]
  },
  {
   "cell_type": "code",
   "execution_count": 15,
   "metadata": {},
   "outputs": [],
   "source": [
    "# create control and experimental groups\n",
    "control = orders[orders['Discount'] == 0]\n",
    "control = control['Quantity']\n",
    "exp = orders[orders['Discount'] != 0]\n",
    "exp = exp['Quantity']"
   ]
  },
  {
   "cell_type": "markdown",
   "metadata": {},
   "source": [
    "### 2.2 Checking assumptions"
   ]
  },
  {
   "cell_type": "markdown",
   "metadata": {},
   "source": [
    "### 2.2.1 Normality"
   ]
  },
  {
   "cell_type": "markdown",
   "metadata": {},
   "source": [
    "In order to perform a two-sample *t*-test, there are several assumptions that need to be met, the first of which is normality. We will assess this visually and also perform a normality test using the `normaltest` [function](https://docs.scipy.org/doc/scipy/reference/generated/scipy.stats.normaltest.html#scipy.stats.normaltest), which combines measures of skew and kurtosis. "
   ]
  },
  {
   "cell_type": "code",
   "execution_count": null,
   "metadata": {},
   "outputs": [],
   "source": [
    "plt.figure(figsize=(20, 10))\n",
    "sns.distplot(control, label='Control')\n",
    "sns.distplot(exp, label='Experimental')\n",
    "plt.title('Distribution of quantity ordered', fontsize=16)\n",
    "plt.xlabel('quantity of product ordered', fontsize=16)\n",
    "plt.legend(frameon=False, fontsize=16, loc='best')"
   ]
  },
  {
   "cell_type": "code",
   "execution_count": null,
   "metadata": {},
   "outputs": [],
   "source": [
    "import scipy.stats as stat\n",
    "\n",
    "print('Normality of distribution: ', stat.normaltest(control))\n",
    "print('Normality of distribution: ', stat.normaltest(exp))"
   ]
  },
  {
   "cell_type": "markdown",
   "metadata": {},
   "source": [
    "As we can see, both distributions are non-normal and skewed right. It is interesting to note that they are roughly the same shape, but the mean is shifted farther to the right in the experimental group. Whether this shift is significant remains to be seen, but at least we can tell there is a difference. Next, the normality function tests the null hypothesis that the distributions are normal. Given the extremely low *p*-value, we have strong evidence against the distributions being normal. These distribution shapes are expected though because it is more likely someone orders 15 items versus >100 items (no matter how delicious the Turkish delights may be!).\n",
    "\n",
    "Given the non-normal distributions, we will lean on the CLT for parameter estimation and hypothesis testing. Simply put, the CLT asserts that the sampling distribution of the sample mean will be approximately normal regardless of the distribution of the underlying sample. Because we have a sufficiently large sample size *n* (>30) for each group, we can be confident in our approximation despite the skewed distributions. We will create our sample distribution of sample means after checking all assumptions."
   ]
  },
  {
   "cell_type": "markdown",
   "metadata": {},
   "source": [
    "### 2.2.2 Independence"
   ]
  },
  {
   "cell_type": "markdown",
   "metadata": {},
   "source": [
    "The next assumption is independence both within and between groups. This assumption is easily satisfied because the quantity of items ordered by one shopper has no influence on the next shopper."
   ]
  },
  {
   "cell_type": "markdown",
   "metadata": {},
   "source": [
    "### 2.2.3 Random"
   ]
  },
  {
   "cell_type": "markdown",
   "metadata": {},
   "source": [
    "The last assumption is that samples are randomly chosen, meaning every observation has an equal chance of being selected. When we create the sampling distribution of sample mean, we will use numpy's `random.choice` function to ensure a random sample is generated (read [here](https://docs.scipy.org/doc/numpy-1.15.0/reference/generated/numpy.random.choice.html) for more details)."
   ]
  },
  {
   "cell_type": "markdown",
   "metadata": {},
   "source": [
    "### 2.3 Creating a sampling distribution of sample mean"
   ]
  },
  {
   "cell_type": "markdown",
   "metadata": {},
   "source": [
    "As mentioned earlier, the CLT allows us to create an approximately normal sampling distribution of the sample mean due to the sufficiently large sample size *n*, thus satisfying the normality assumption."
   ]
  },
  {
   "cell_type": "code",
   "execution_count": null,
   "metadata": {},
   "outputs": [],
   "source": [
    "# create function to sample with replacement\n",
    "def get_sample(df, n):\n",
    "    sample = []\n",
    "    while len(sample) != n:\n",
    "        x = np.random.choice(df)\n",
    "        sample.append(x)\n",
    "    return sample\n",
    "\n",
    "# create function to calculate mean of the sample\n",
    "def get_sample_mean(sample):\n",
    "    return sum(sample)/len(sample)\n",
    "\n",
    "# combine functions to create a sample distribution\n",
    "# create a distribution size of 1000 and sample size of 500\n",
    "def create_sample_distribution(df, dist_size=1000, n=500):\n",
    "    sample_dist = [] \n",
    "    while len(sample_dist) != dist_size:\n",
    "        sample = get_sample(df, n)\n",
    "        sample_mean = get_sample_mean(sample)\n",
    "        sample_dist.append(sample_mean)\n",
    "        \n",
    "    return sample_dist"
   ]
  },
  {
   "cell_type": "code",
   "execution_count": null,
   "metadata": {},
   "outputs": [],
   "source": [
    "# create sample distributions of sample mean for control and experimental\n",
    "ctrl_sample = create_sample_distribution(control)\n",
    "exp_sample = create_sample_distribution(exp)"
   ]
  },
  {
   "cell_type": "code",
   "execution_count": null,
   "metadata": {},
   "outputs": [],
   "source": [
    "plt.figure(figsize = (20, 10))\n",
    "sns.distplot(ctrl_sample, label='Control')\n",
    "sns.distplot(exp_sample, label='Experimental')\n",
    "plt.title('Sampling distributions of sample mean', fontsize=16)\n",
    "plt.xlabel('quantity of product ordered', fontsize=16)\n",
    "plt.legend(frameon=False, fontsize=16, loc='best')"
   ]
  },
  {
   "cell_type": "markdown",
   "metadata": {},
   "source": [
    "Thanks to the CLT, the sampling distributions are normal now. We observe a clear difference in the mean quantity of product ordered (~22 for the control versus ~27 for the experimental) between the two groups, with minimal overlap."
   ]
  },
  {
   "cell_type": "markdown",
   "metadata": {},
   "source": [
    "# 3 Two sample *t*-test"
   ]
  },
  {
   "cell_type": "markdown",
   "metadata": {},
   "source": [
    "### 3.1 Hypotheses and Type I & II errors"
   ]
  },
  {
   "cell_type": "markdown",
   "metadata": {},
   "source": [
    "The null and alternative hypotheses are as follows:\n",
    "\n",
    "$H_o:$ There is no difference in the mean quantity of product ordered when comparing customers who did not receive a discount and customers with a discount\n",
    "\n",
    "\n",
    "$H_a:$ The mean quantity of product ordered by customers who received a discount should be greater than 21.7, the mean quantity of product ordered by customers without a discount\n",
    "\n",
    "We set the significance level ($\\alpha$) to 0.05 or 5%. In other words, this is the $\\alpha$ value we are comfortable with for making a Type I error which we consider to be more serious than a Type II error. It is important to identify these errors early on so we can improve the test design. With this in mind, what we are trying to do is minimize the probability of committing a Type I error by maximizing the power (probability of making the correct decision when $H_a$ is true). This is one of the reasons why we chose a large sample size.\n",
    "\n",
    "**Type I error**: reject 'discount amount has no effect' when it has no effect (i.e. keep offering discounts when it has no effect, resulting in lower revenue)\n",
    "\n",
    "**Type II error**: accept 'discount amount has no effect' when it does have an effect (i.e. offer no discounts when it actually has an effect on quantity of product ordered, fail to capture potential revenue)"
   ]
  },
  {
   "cell_type": "markdown",
   "metadata": {},
   "source": [
    "### 3.2 Welch's *t*-test"
   ]
  },
  {
   "cell_type": "markdown",
   "metadata": {},
   "source": [
    "To determine whether to use a Student or Welch's *t*-test, we test whether the sample size and population variances are equal. If the population variance assumption is violated, then we use Welch's adaptation."
   ]
  },
  {
   "cell_type": "code",
   "execution_count": null,
   "metadata": {},
   "outputs": [],
   "source": [
    "# test whether variances are equal\n",
    "np.var(control) == np.var(exp)"
   ]
  },
  {
   "cell_type": "markdown",
   "metadata": {},
   "source": [
    "Because the two population variances are not equal, we perform Welch's *t*-test using the `ttest_ind` function (read [here](https://docs.scipy.org/doc/scipy/reference/generated/scipy.stats.ttest_ind.html) for more details)."
   ]
  },
  {
   "cell_type": "code",
   "execution_count": null,
   "metadata": {},
   "outputs": [],
   "source": [
    "# set equal_var to False to perform Welch's t-test\n",
    "stat.ttest_ind(exp_sample, ctrl_sample, equal_var=False)"
   ]
  },
  {
   "cell_type": "markdown",
   "metadata": {},
   "source": [
    "The `ttest_ind` function returns a two-tailed p-value. In order to obtain the right-tailed value, we simply divide the two-tailed value by two. In this scenario, the p-value remains zero. The probability of getting a test statistic of 140 or higher, if in fact the null hypothesis is true, is 0. In other words, the null hypothesis provides a very poor explanation of the data and **we find strong evidence that the quantity of product ordered is significantly greater than 21.7 items when a discount is applied**. The result confirms our intuition that people are likely to purchase more when a discount is available, in order to maximize savings."
   ]
  },
  {
   "cell_type": "markdown",
   "metadata": {},
   "source": [
    "### 3.3 Effect size"
   ]
  },
  {
   "cell_type": "markdown",
   "metadata": {},
   "source": [
    "We also need to calculate the magnitude of the difference (effect size) because when the results are statistically significant, it is also important to examine the practical significance. Our results may be significant due to a very large sample size, thus measuring the effect size - which is immune to sample size - allows us to determine if the difference is large enough to be meaningful. This is measured using Cohen's *d* where values of 0 - 0.2 have little or no effect and values of >= 0.8 have a large effect size."
   ]
  },
  {
   "cell_type": "code",
   "execution_count": null,
   "metadata": {},
   "outputs": [],
   "source": [
    "# function for calculating Cohen's d\n",
    "def Cohen_d(group1, group2):\n",
    "\n",
    "    diff = group1.mean()-group2.mean()\n",
    "\n",
    "    n1, n2 = len(group1), len(group2)\n",
    "    var1 = group1.var()\n",
    "    var2 = group2.var()\n",
    "\n",
    "    pooled_var = (n1*var1+n2*var2) / (n1+n2)\n",
    "  \n",
    "    d = diff / np.sqrt(pooled_var)\n",
    "    \n",
    "    return d\n",
    "\n",
    "# calculate Cohen's d for target and control samples\n",
    "print(\"Cohen's d:\" , Cohen_d(np.array(exp_sample), np.array(ctrl_sample)))"
   ]
  },
  {
   "cell_type": "markdown",
   "metadata": {},
   "source": [
    "Our Cohen's d value is much higher than 0.8 so we **interpret our results as having a large effect size**, which supports the conclusion from the hypothesis test."
   ]
  },
  {
   "cell_type": "markdown",
   "metadata": {},
   "source": [
    "### 3.4 One-way ANOVA"
   ]
  },
  {
   "cell_type": "markdown",
   "metadata": {},
   "source": [
    "Now that we know discount amount has a statistically significant effect on the quantity of product ordered, we are interested in the discount level at which we observe significance. Does a 5% discount have the same effect on quantity of product ordered as a 20% discount? To achieve this, we will perform a one-way ANOVA to test for differences among the different discount levels."
   ]
  },
  {
   "cell_type": "code",
   "execution_count": null,
   "metadata": {},
   "outputs": [],
   "source": [
    "orders['Quantity'].groupby(orders['Discount']).describe()"
   ]
  },
  {
   "cell_type": "markdown",
   "metadata": {},
   "source": [
    "There are 10 discount levels, with the minimum being a 1% discount and the maximum, a 25% discount. For three levels (1%, 4% and 6%), only 1 shopper each received these discounts. We will use [statsmodels](https://www.statsmodels.org/stable/index.html) to get a bit more information from the ANOVA model. Before beginning, there are three primary assumptions we check prior to conducting an ANOVA:\n",
    "\n",
    "1. The response variables (discount level) have a normal population distribution. \n",
    "2. The population variances are equal.\n",
    "3. The response variables are independent.\n",
    "\n",
    "The first two assumptions are violated but they are not considered serious because the sampling distribution is quite robust, given the large sample size. As a result we can proceed with the ANOVA test."
   ]
  },
  {
   "cell_type": "code",
   "execution_count": null,
   "metadata": {},
   "outputs": [],
   "source": [
    "import statsmodels.api as sm\n",
    "from statsmodels.formula.api import ols\n",
    "from statsmodels.stats.multicomp import pairwise_tukeyhsd\n",
    "from statsmodels.stats.multicomp import MultiComparison\n",
    "\n",
    "# wrap with C() to indicate categorical variable\n",
    "results = ols('Quantity ~ C(Discount)', data=orders).fit()"
   ]
  },
  {
   "cell_type": "code",
   "execution_count": null,
   "metadata": {},
   "outputs": [],
   "source": [
    "aov_table = sm.stats.anova_lm(results, typ=2)\n",
    "print(aov_table)"
   ]
  },
  {
   "cell_type": "markdown",
   "metadata": {},
   "source": [
    "The overall model is significant, *p* = 4.7e-09, which indicates a significant difference between group means but it does not provide any statistical evidence as to which means are statistically different. We need to perform a multiple comparisons analysis to determine which discount levels have a statistically significant effect on the quantity of product in an order. To do this, compare all possible pairwise means using Tukey's HSD test (read more about it [here](https://en.wikipedia.org/wiki/Tukey%27s_range_test)). "
   ]
  },
  {
   "cell_type": "code",
   "execution_count": null,
   "metadata": {},
   "outputs": [],
   "source": [
    "mc = MultiComparison(orders['Quantity'], orders['Discount'])\n",
    "mc_results = mc.tukeyhsd()\n",
    "print(mc_results)"
   ]
  },
  {
   "cell_type": "markdown",
   "metadata": {},
   "source": [
    "Remember the null hypothesis is that there are no differences between the means. Looking at the results, we reject the null hypothesis at the 5, 15, 20 and 25% discount level when compared with the control group. In other words, **when discounts of 5, 15, 20 and 25% are applied, we observe a statistically significant effect on the quantity of product ordered**."
   ]
  },
  {
   "cell_type": "markdown",
   "metadata": {},
   "source": [
    "# 4 More hypothesis tests"
   ]
  },
  {
   "cell_type": "markdown",
   "metadata": {},
   "source": [
    "In addition to addressing our main hypothesis, there are several other questions that we are interested in answering which may be of value to the Northwind Traders."
   ]
  },
  {
   "cell_type": "markdown",
   "metadata": {},
   "source": [
    "### 4.1 Does supply region have a statistically significant effect on unit price?"
   ]
  },
  {
   "cell_type": "markdown",
   "metadata": {},
   "source": [
    "The company may be motivated to discover if the supply region has a statistically significant effect on unit price. If a product is more expensive in one region, then the company should try to source the product from a different region where the price is lower. \n",
    "\n",
    "The null and alternative hypotheses are as follows:\n",
    "\n",
    "$H_o:$ There is no difference in the mean unit price among regions\n",
    "\n",
    "$H_a:$ There is at least one region with a different mean unit price"
   ]
  },
  {
   "cell_type": "code",
   "execution_count": null,
   "metadata": {},
   "outputs": [],
   "source": [
    "c.execute('''SELECT Region, UnitPrice\n",
    "             FROM Supplier\n",
    "             JOIN Product\n",
    "             ON SupplierID;''')\n",
    "\n",
    "supply = pd.DataFrame(c.fetchall())\n",
    "supply.columns = [i[0] for i in c.description]\n",
    "supply['Region'].value_counts()"
   ]
  },
  {
   "cell_type": "code",
   "execution_count": null,
   "metadata": {},
   "outputs": [],
   "source": [
    "results = ols('UnitPrice ~ C(Region)', data=supply).fit()\n",
    "aov_table = sm.stats.anova_lm(results, typ=2)\n",
    "print(aov_table)"
   ]
  },
  {
   "cell_type": "markdown",
   "metadata": {},
   "source": [
    "The overall model is not significant, p = 1, which indicates a non-significant difference between group means. As a result, we accept the null hypothesis that there is **no significant difference in mean unit price between regions and reject the alternative hypothesis**. This is surprising because each region produces some specialty items which leads one to believe that there would be a difference in unit price. For example, one region may produce goods that are unique to that area and as a result, they can charge a higher unit price. But it is not true in this scenario, which may imply regions are more interconnected than it seems."
   ]
  },
  {
   "cell_type": "markdown",
   "metadata": {},
   "source": [
    "### 4.2 Is the mean freight price significantly different between shipping companies?"
   ]
  },
  {
   "cell_type": "code",
   "execution_count": null,
   "metadata": {
    "scrolled": true
   },
   "outputs": [],
   "source": [
    "c.execute('''SELECT CompanyName, Freight, \"Order\".ID\n",
    "             FROM Shipper\n",
    "             JOIN \"Order\"\n",
    "             ON Shipper.ID = ShipVia;''')\n",
    "\n",
    "freight = pd.DataFrame(c.fetchall())\n",
    "freight.columns = [i[0] for i in c.description]\n",
    "freight.head()"
   ]
  },
  {
   "cell_type": "code",
   "execution_count": null,
   "metadata": {},
   "outputs": [],
   "source": [
    "freight['CompanyName'].value_counts()"
   ]
  },
  {
   "cell_type": "markdown",
   "metadata": {},
   "source": [
    "In this example, we will only look at mean freight prices between Federal Shipping and Speedy Express. Instead of performing a right-tailed test, we will conduct a **two-tailed test** this time.\n",
    "\n",
    "The null and alternative hypotheses are as follows:\n",
    "\n",
    "$H_o:$ There is no difference in the mean freight price between Federal Shipping and Speedy Express\n",
    "\n",
    "$H_a:$ There is a difference in the mean freight price between Federal Shipping and Speedy Express"
   ]
  },
  {
   "cell_type": "code",
   "execution_count": null,
   "metadata": {},
   "outputs": [],
   "source": [
    "# create two populations\n",
    "fedship = freight[freight['CompanyName'] == 'Federal Shipping']\n",
    "fedship = fedship['Freight']\n",
    "speedship = freight[freight['CompanyName'] != 'Speedy Express']\n",
    "speedship = speedship['Freight']"
   ]
  },
  {
   "cell_type": "code",
   "execution_count": null,
   "metadata": {},
   "outputs": [],
   "source": [
    "# check for normality\n",
    "plt.figure(figsize=(20, 10))\n",
    "sns.distplot(fedship, label='Federal Shipping')\n",
    "sns.distplot(speedship, label='Speedy Express')\n",
    "plt.title('Distribution of freight price', fontsize=16)\n",
    "plt.xlabel('freight price', fontsize=16)\n",
    "plt.legend(frameon=False, fontsize=16, loc='best')"
   ]
  },
  {
   "cell_type": "code",
   "execution_count": null,
   "metadata": {},
   "outputs": [],
   "source": [
    "# create sampling distribution of sample mean, use sample size of 200\n",
    "f_ship = create_sample_distribution(fedship, n=200)\n",
    "s_ship = create_sample_distribution(speedship, n=200)"
   ]
  },
  {
   "cell_type": "code",
   "execution_count": null,
   "metadata": {},
   "outputs": [],
   "source": [
    "# test population variances to determine which t-test to use\n",
    "np.var(fedship) == np.var(speedship)"
   ]
  },
  {
   "cell_type": "code",
   "execution_count": null,
   "metadata": {},
   "outputs": [],
   "source": [
    "# set equal_var to False to perform Welch's t-test\n",
    "stat.ttest_ind(s_ship, f_ship, equal_var=False)"
   ]
  },
  {
   "cell_type": "code",
   "execution_count": null,
   "metadata": {},
   "outputs": [],
   "source": [
    "# calculate effect size\n",
    "print(\"Cohen's d:\" , Cohen_d(np.array(s_ship), np.array(f_ship)))"
   ]
  },
  {
   "cell_type": "markdown",
   "metadata": {},
   "source": [
    "The probability of getting a test statistic of 9.88, if in fact the null hypothesis is true, is 1.6e-22. In other words, we reject the null hypothesis and **we find strong evidence that the mean freight price is significantly different between Speedy Express and Federal Shipping**. However, while our result is statistically significant, we interpret Cohen's d-value as only having a medium effect size (0.2 - 0.5). This highlights the importance of examining the effect size, especially when the difference is small, because very small differences will be statistically significant with a large sample size. In conclusion, it may be worth considering one shipping carrier versus the other to select the carrier with the lowest freight price."
   ]
  },
  {
   "cell_type": "markdown",
   "metadata": {},
   "source": [
    "### 4.3 Is there a statistical difference in the mean quantity of products ordered by customers from Eastern Europe?"
   ]
  },
  {
   "cell_type": "code",
   "execution_count": null,
   "metadata": {},
   "outputs": [],
   "source": [
    "c.execute('''SELECT Region, Quantity, OrderId\n",
    "             FROM Customer\n",
    "             LEFT JOIN \"Order\"\n",
    "             ON Customer.Id\n",
    "             LEFT JOIN OrderDetail\n",
    "             ON OrderId;''')\n",
    "\n",
    "cust = pd.DataFrame(c.fetchall())\n",
    "cust.columns = [i[0] for i in c.description]\n",
    "cust.head()"
   ]
  },
  {
   "cell_type": "code",
   "execution_count": null,
   "metadata": {},
   "outputs": [],
   "source": [
    "cust['Region'].value_counts()"
   ]
  },
  {
   "cell_type": "code",
   "execution_count": null,
   "metadata": {},
   "outputs": [],
   "source": [
    "cust.describe()"
   ]
  },
  {
   "cell_type": "markdown",
   "metadata": {},
   "source": [
    "The mean amount of product ordered across all regions is 23.8. When we look at the quantity of items ordered by region, customers from Eastern Europe have the lowest total order volume. Is the mean quantity of items ordered by customers in Eastern Europe significantly lower than the population mean? If so, the company may want to increase marketing in Eastern Europe to drive more sales because it would mean there is space for growth. To answer this question, we perform a **left-tailed test** using the `ttest_1samp` function (read more about it [here](https://docs.scipy.org/doc/scipy/reference/generated/scipy.stats.ttest_1samp.html)).\n",
    "\n",
    "The null and alternative hypotheses are as follows:\n",
    "\n",
    "$H_o:$ The mean quantity of product ordered in Eastern Europe is 23.8\n",
    "\n",
    "$H_a:$ The mean quantity of product ordered in Eastern Europe is less than 23.8"
   ]
  },
  {
   "cell_type": "code",
   "execution_count": null,
   "metadata": {},
   "outputs": [],
   "source": [
    "east = cust[cust['Region'] == 'Eastern Europe']\n",
    "east = east['Quantity']"
   ]
  },
  {
   "cell_type": "code",
   "execution_count": null,
   "metadata": {},
   "outputs": [],
   "source": [
    "# check for normality\n",
    "plt.figure(figsize=(20, 10))\n",
    "sns.distplot(east, label='Eastern Europe')\n",
    "plt.title('Distribution of quantity ordered in Eastern Europe', fontsize=16)\n",
    "plt.xlabel('quantity ordered', fontsize=16)\n",
    "plt.legend(frameon=False, fontsize=16, loc='best')"
   ]
  },
  {
   "cell_type": "code",
   "execution_count": null,
   "metadata": {},
   "outputs": [],
   "source": [
    "# create sample\n",
    "east_samp = create_sample_distribution(east)\n",
    "\n",
    "# perform one-sample t-test\n",
    "stat.ttest_1samp(east_samp, popmean=23.8)"
   ]
  },
  {
   "cell_type": "code",
   "execution_count": null,
   "metadata": {},
   "outputs": [],
   "source": [
    "# calculate effect size\n",
    "d = (np.mean(east_samp)-23.8) / np.std(east_samp)\n",
    "print('Cohens d:', d)"
   ]
  },
  {
   "cell_type": "markdown",
   "metadata": {},
   "source": [
    "The probability of getting a test statistic of -0.167, if in fact the null hypothesis is true, is 0.434 (remember to divide by two to get the p-value since `ttest_1samp` returns a two-tailed p-value). In other words, we **fail to reject the null hypothesis and we find strong evidence against the mean quantity of product ordered in Eastern Europe is less than the population mean**. The Cohen's d-value is also negligible, lending support to the results of the one-sample t-test. Even though customers from Eastern Europe don't order with the same frequency as their neighbors, their mean quantity per order is not significantly different. In aggregate, they simply make fewer orders."
   ]
  },
  {
   "cell_type": "markdown",
   "metadata": {},
   "source": [
    "# 5 Conclusion"
   ]
  },
  {
   "cell_type": "markdown",
   "metadata": {},
   "source": [
    "In summary, we find:\n",
    "\n",
    "* strong statistical evidence for a large and significant effect on the quantity of product ordered when discount amounts of 5, 15, 20 and 25% are applied\n",
    "* insufficient evidence for a significant difference in mean unit prices among supply regions\n",
    "* mild evidence for a significant difference in mean freight price between Federal Shipping and Speedy Express, making it worthwhile to choose a carrier with consistently lower prices\n",
    "* a lack of evidence for a difference in mean quantity of product ordered between customers in Western and Eastern Europe\n",
    "\n",
    "Building off of this project, more potential value can be gained by exploring the following topics:\n",
    "\n",
    "* removing discount amounts < 5% and removing 10% discount because no value is gained. Try experimenting with discount's larger than 25% to determine whether customers will continue to order more products per order\n",
    "* determine which shipping carrier has the lowest mean freight price. At the moment, we only know that there is a significant difference in price, but we don't know which carrier is the best"
   ]
  }
 ],
 "metadata": {
  "kernelspec": {
   "display_name": "Python 3",
   "language": "python",
   "name": "python3"
  },
  "language_info": {
   "codemirror_mode": {
    "name": "ipython",
    "version": 3
   },
   "file_extension": ".py",
   "mimetype": "text/x-python",
   "name": "python",
   "nbconvert_exporter": "python",
   "pygments_lexer": "ipython3",
   "version": "3.7.1"
  }
 },
 "nbformat": 4,
 "nbformat_minor": 4
}
