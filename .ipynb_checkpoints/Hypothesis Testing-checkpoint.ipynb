{
 "cells": [
  {
   "cell_type": "markdown",
   "metadata": {},
   "source": [
    "# 1 Introduction"
   ]
  },
  {
   "cell_type": "markdown",
   "metadata": {},
   "source": [
    "The Northwind Traders are a fictitious company sourcing specialty foods from around the world. Their database holds information about shipping information, order details and employee/customer relationships. For this project, we are interested in **determining whether or not discount amount has a statistically significant effect on the amount of product ordered**. Additionally, we would like to **quantify the level at which the discount amount is significant, if such a relationship exists**."
   ]
  },
  {
   "cell_type": "markdown",
   "metadata": {},
   "source": [
    "### 1.1 Loading libraries"
   ]
  },
  {
   "cell_type": "code",
   "execution_count": 1,
   "metadata": {},
   "outputs": [],
   "source": [
    "import pandas as pd\n",
    "import numpy as np\n",
    "import matplotlib.pyplot as plt\n",
    "import seaborn as sns\n",
    "import sqlite3\n",
    "\n",
    "%matplotlib inline"
   ]
  },
  {
   "cell_type": "markdown",
   "metadata": {},
   "source": [
    "### 1.2 Retrieving data from database"
   ]
  },
  {
   "cell_type": "code",
   "execution_count": 2,
   "metadata": {},
   "outputs": [
    {
     "data": {
      "text/html": [
       "<div>\n",
       "<style scoped>\n",
       "    .dataframe tbody tr th:only-of-type {\n",
       "        vertical-align: middle;\n",
       "    }\n",
       "\n",
       "    .dataframe tbody tr th {\n",
       "        vertical-align: top;\n",
       "    }\n",
       "\n",
       "    .dataframe thead th {\n",
       "        text-align: right;\n",
       "    }\n",
       "</style>\n",
       "<table border=\"1\" class=\"dataframe\">\n",
       "  <thead>\n",
       "    <tr style=\"text-align: right;\">\n",
       "      <th></th>\n",
       "      <th>Id</th>\n",
       "      <th>OrderId</th>\n",
       "      <th>ProductId</th>\n",
       "      <th>UnitPrice</th>\n",
       "      <th>Quantity</th>\n",
       "      <th>Discount</th>\n",
       "    </tr>\n",
       "  </thead>\n",
       "  <tbody>\n",
       "    <tr>\n",
       "      <th>0</th>\n",
       "      <td>10260/41</td>\n",
       "      <td>10260</td>\n",
       "      <td>41</td>\n",
       "      <td>7.7</td>\n",
       "      <td>16</td>\n",
       "      <td>0.25</td>\n",
       "    </tr>\n",
       "    <tr>\n",
       "      <th>1</th>\n",
       "      <td>10260/62</td>\n",
       "      <td>10260</td>\n",
       "      <td>62</td>\n",
       "      <td>39.4</td>\n",
       "      <td>15</td>\n",
       "      <td>0.25</td>\n",
       "    </tr>\n",
       "    <tr>\n",
       "      <th>2</th>\n",
       "      <td>10260/70</td>\n",
       "      <td>10260</td>\n",
       "      <td>70</td>\n",
       "      <td>12.0</td>\n",
       "      <td>21</td>\n",
       "      <td>0.25</td>\n",
       "    </tr>\n",
       "    <tr>\n",
       "      <th>3</th>\n",
       "      <td>10263/16</td>\n",
       "      <td>10263</td>\n",
       "      <td>16</td>\n",
       "      <td>13.9</td>\n",
       "      <td>60</td>\n",
       "      <td>0.25</td>\n",
       "    </tr>\n",
       "    <tr>\n",
       "      <th>4</th>\n",
       "      <td>10263/30</td>\n",
       "      <td>10263</td>\n",
       "      <td>30</td>\n",
       "      <td>20.7</td>\n",
       "      <td>60</td>\n",
       "      <td>0.25</td>\n",
       "    </tr>\n",
       "  </tbody>\n",
       "</table>\n",
       "</div>"
      ],
      "text/plain": [
       "         Id  OrderId  ProductId  UnitPrice  Quantity  Discount\n",
       "0  10260/41    10260         41        7.7        16      0.25\n",
       "1  10260/62    10260         62       39.4        15      0.25\n",
       "2  10260/70    10260         70       12.0        21      0.25\n",
       "3  10263/16    10263         16       13.9        60      0.25\n",
       "4  10263/30    10263         30       20.7        60      0.25"
      ]
     },
     "execution_count": 2,
     "metadata": {},
     "output_type": "execute_result"
    }
   ],
   "source": [
    "# create a connection to the database\n",
    "conn = sqlite3.connect('Northwind_small.sqlite', detect_types=sqlite3.PARSE_COLNAMES)\n",
    "c = conn.cursor()\n",
    "\n",
    "# query database \n",
    "c.execute('''SELECT *\n",
    "             FROM OrderDetail \n",
    "             ORDER BY Discount DESC;''')\n",
    "\n",
    "# store results in a dataframe\n",
    "orders = pd.DataFrame(c.fetchall())\n",
    "orders.columns = [i[0] for i in c.description]\n",
    "orders.head()"
   ]
  },
  {
   "cell_type": "markdown",
   "metadata": {},
   "source": [
    "The **OrderDetail** table contains information with the variables of interest: **discount amount** and **quantity**. Note how that a single order, as denoted by the OrderID, can have multiple products within it. For example, Order #10260 has 3 products (41, 62, 70) associated with it."
   ]
  },
  {
   "cell_type": "markdown",
   "metadata": {},
   "source": [
    "### 1.3 Data structure and content"
   ]
  },
  {
   "cell_type": "code",
   "execution_count": 3,
   "metadata": {},
   "outputs": [
    {
     "data": {
      "text/plain": [
       "Id           0\n",
       "OrderId      0\n",
       "ProductId    0\n",
       "UnitPrice    0\n",
       "Quantity     0\n",
       "Discount     0\n",
       "dtype: int64"
      ]
     },
     "execution_count": 3,
     "metadata": {},
     "output_type": "execute_result"
    }
   ],
   "source": [
    "orders.isna().sum()"
   ]
  },
  {
   "cell_type": "code",
   "execution_count": 4,
   "metadata": {},
   "outputs": [
    {
     "name": "stdout",
     "output_type": "stream",
     "text": [
      "<class 'pandas.core.frame.DataFrame'>\n",
      "RangeIndex: 2155 entries, 0 to 2154\n",
      "Data columns (total 6 columns):\n",
      "Id           2155 non-null object\n",
      "OrderId      2155 non-null int64\n",
      "ProductId    2155 non-null int64\n",
      "UnitPrice    2155 non-null float64\n",
      "Quantity     2155 non-null int64\n",
      "Discount     2155 non-null float64\n",
      "dtypes: float64(2), int64(3), object(1)\n",
      "memory usage: 101.1+ KB\n"
     ]
    }
   ],
   "source": [
    "orders.info()"
   ]
  },
  {
   "cell_type": "markdown",
   "metadata": {},
   "source": [
    "A simple check shows no missing values in the dataset and all data columns are appropriately formatted. In total, there are 6 variables and 2155 entries."
   ]
  },
  {
   "cell_type": "code",
   "execution_count": 5,
   "metadata": {},
   "outputs": [
    {
     "data": {
      "text/html": [
       "<div>\n",
       "<style scoped>\n",
       "    .dataframe tbody tr th:only-of-type {\n",
       "        vertical-align: middle;\n",
       "    }\n",
       "\n",
       "    .dataframe tbody tr th {\n",
       "        vertical-align: top;\n",
       "    }\n",
       "\n",
       "    .dataframe thead th {\n",
       "        text-align: right;\n",
       "    }\n",
       "</style>\n",
       "<table border=\"1\" class=\"dataframe\">\n",
       "  <thead>\n",
       "    <tr style=\"text-align: right;\">\n",
       "      <th></th>\n",
       "      <th>OrderId</th>\n",
       "      <th>ProductId</th>\n",
       "      <th>UnitPrice</th>\n",
       "      <th>Quantity</th>\n",
       "      <th>Discount</th>\n",
       "    </tr>\n",
       "  </thead>\n",
       "  <tbody>\n",
       "    <tr>\n",
       "      <th>count</th>\n",
       "      <td>2155.000000</td>\n",
       "      <td>2155.000000</td>\n",
       "      <td>2155.000000</td>\n",
       "      <td>2155.000000</td>\n",
       "      <td>2155.000000</td>\n",
       "    </tr>\n",
       "    <tr>\n",
       "      <th>mean</th>\n",
       "      <td>10659.375870</td>\n",
       "      <td>40.793039</td>\n",
       "      <td>26.218520</td>\n",
       "      <td>23.812993</td>\n",
       "      <td>0.056167</td>\n",
       "    </tr>\n",
       "    <tr>\n",
       "      <th>std</th>\n",
       "      <td>241.378032</td>\n",
       "      <td>22.159019</td>\n",
       "      <td>29.827418</td>\n",
       "      <td>19.022047</td>\n",
       "      <td>0.083450</td>\n",
       "    </tr>\n",
       "    <tr>\n",
       "      <th>min</th>\n",
       "      <td>10248.000000</td>\n",
       "      <td>1.000000</td>\n",
       "      <td>2.000000</td>\n",
       "      <td>1.000000</td>\n",
       "      <td>0.000000</td>\n",
       "    </tr>\n",
       "    <tr>\n",
       "      <th>25%</th>\n",
       "      <td>10451.000000</td>\n",
       "      <td>22.000000</td>\n",
       "      <td>12.000000</td>\n",
       "      <td>10.000000</td>\n",
       "      <td>0.000000</td>\n",
       "    </tr>\n",
       "    <tr>\n",
       "      <th>50%</th>\n",
       "      <td>10657.000000</td>\n",
       "      <td>41.000000</td>\n",
       "      <td>18.400000</td>\n",
       "      <td>20.000000</td>\n",
       "      <td>0.000000</td>\n",
       "    </tr>\n",
       "    <tr>\n",
       "      <th>75%</th>\n",
       "      <td>10862.500000</td>\n",
       "      <td>60.000000</td>\n",
       "      <td>32.000000</td>\n",
       "      <td>30.000000</td>\n",
       "      <td>0.100000</td>\n",
       "    </tr>\n",
       "    <tr>\n",
       "      <th>max</th>\n",
       "      <td>11077.000000</td>\n",
       "      <td>77.000000</td>\n",
       "      <td>263.500000</td>\n",
       "      <td>130.000000</td>\n",
       "      <td>0.250000</td>\n",
       "    </tr>\n",
       "  </tbody>\n",
       "</table>\n",
       "</div>"
      ],
      "text/plain": [
       "            OrderId    ProductId    UnitPrice     Quantity     Discount\n",
       "count   2155.000000  2155.000000  2155.000000  2155.000000  2155.000000\n",
       "mean   10659.375870    40.793039    26.218520    23.812993     0.056167\n",
       "std      241.378032    22.159019    29.827418    19.022047     0.083450\n",
       "min    10248.000000     1.000000     2.000000     1.000000     0.000000\n",
       "25%    10451.000000    22.000000    12.000000    10.000000     0.000000\n",
       "50%    10657.000000    41.000000    18.400000    20.000000     0.000000\n",
       "75%    10862.500000    60.000000    32.000000    30.000000     0.100000\n",
       "max    11077.000000    77.000000   263.500000   130.000000     0.250000"
      ]
     },
     "execution_count": 5,
     "metadata": {},
     "output_type": "execute_result"
    }
   ],
   "source": [
    "orders.describe()"
   ]
  },
  {
   "cell_type": "markdown",
   "metadata": {},
   "source": [
    "The mean quantity ordered is 23.8 items and the highest number of items ordered is 130 while the lowest is 1. Customers receive a mean discount of roughly 5% while the largest discount applied was 25%. Let's visualize the distribution of quantity of items ordered."
   ]
  },
  {
   "cell_type": "code",
   "execution_count": 6,
   "metadata": {},
   "outputs": [
    {
     "name": "stderr",
     "output_type": "stream",
     "text": [
      "/anaconda3/envs/learn-env/lib/python3.6/site-packages/scipy/stats/stats.py:1713: FutureWarning: Using a non-tuple sequence for multidimensional indexing is deprecated; use `arr[tuple(seq)]` instead of `arr[seq]`. In the future this will be interpreted as an array index, `arr[np.array(seq)]`, which will result either in an error or a different result.\n",
      "  return np.add.reduce(sorted[indexer] * weights, axis=axis) / sumval\n"
     ]
    },
    {
     "data": {
      "text/plain": [
       "Text(0.5, 0, 'quantity of product ordered')"
      ]
     },
     "execution_count": 6,
     "metadata": {},
     "output_type": "execute_result"
    },
    {
     "data": {
      "image/png": "[encoded data removed]",
      "text/plain": [
       "<Figure size 1440x720 with 1 Axes>"
      ]
     },
     "metadata": {},
     "output_type": "display_data"
    }
   ],
   "source": [
    "sns.set_style('white')\n",
    "\n",
    "plt.figure(figsize=(20, 10))\n",
    "sns.distplot(orders['Quantity'])\n",
    "plt.title('Distribution of quantity ordered', fontsize=16)\n",
    "plt.xlabel('quantity of product ordered', fontsize=16)"
   ]
  },
  {
   "cell_type": "markdown",
   "metadata": {},
   "source": [
    "The distribution is skewed right and non-normal, so we will rely heavily on the Central Limit Theorem (CLT) for parameter estimation and hypothesis testing."
   ]
  },
  {
   "cell_type": "markdown",
   "metadata": {},
   "source": [
    "# 2 Experiment design"
   ]
  },
  {
   "cell_type": "markdown",
   "metadata": {},
   "source": [
    "### 2.1 Setting up control and experimental groups"
   ]
  },
  {
   "cell_type": "markdown",
   "metadata": {},
   "source": [
    "We are interested in testing whether a discount affects customer shopping behavior. More specifically, we want to test whether discount amount has a statistically significant effect on the amount of product ordered. In order to do this, we need to design this experiment with a control and experimental group to measure the effect of discount (or lack of) on quantity ordered.\n",
    "\n",
    "* The **control** group is comprised of customers who did not receive a discount.\n",
    "* The **experimental** group is comprised of customers who did receive a discount."
   ]
  },
  {
   "cell_type": "code",
   "execution_count": 69,
   "metadata": {},
   "outputs": [],
   "source": [
    "# create control and experimental groups\n",
    "control = orders[orders['Discount'] == 0]\n",
    "control = control['Quantity']\n",
    "exp = orders[orders['Discount'] != 0]\n",
    "exp = exp['Quantity']"
   ]
  },
  {
   "cell_type": "markdown",
   "metadata": {},
   "source": [
    "### 2.2 Checking assumptions"
   ]
  },
  {
   "cell_type": "markdown",
   "metadata": {},
   "source": [
    "### 2.2.1 Normality"
   ]
  },
  {
   "cell_type": "markdown",
   "metadata": {},
   "source": [
    "In order to perform a two-sample *t*-test, there are several assumptions that need to be met, the first of which is normality. We will assess this visually and also perform a normality test using the `normaltest` [function](https://docs.scipy.org/doc/scipy/reference/generated/scipy.stats.normaltest.html#scipy.stats.normaltest), which combines measures of skew and kurtosis. "
   ]
  },
  {
   "cell_type": "code",
   "execution_count": 70,
   "metadata": {},
   "outputs": [
    {
     "name": "stderr",
     "output_type": "stream",
     "text": [
      "/anaconda3/envs/learn-env/lib/python3.6/site-packages/scipy/stats/stats.py:1713: FutureWarning: Using a non-tuple sequence for multidimensional indexing is deprecated; use `arr[tuple(seq)]` instead of `arr[seq]`. In the future this will be interpreted as an array index, `arr[np.array(seq)]`, which will result either in an error or a different result.\n",
      "  return np.add.reduce(sorted[indexer] * weights, axis=axis) / sumval\n"
     ]
    },
    {
     "data": {
      "text/plain": [
       "<matplotlib.legend.Legend at 0x1c239a6dd8>"
      ]
     },
     "execution_count": 70,
     "metadata": {},
     "output_type": "execute_result"
    },
    {
     "data": {
      "image/png": "[encoded data removed]",
      "text/plain": [
       "<Figure size 1440x720 with 1 Axes>"
      ]
     },
     "metadata": {},
     "output_type": "display_data"
    }
   ],
   "source": [
    "plt.figure(figsize=(20, 10))\n",
    "sns.distplot(control, label='Control')\n",
    "sns.distplot(exp, label='Experimental')\n",
    "plt.title('Distribution of quantity ordered', fontsize=16)\n",
    "plt.xlabel('quantity of product ordered', fontsize=16)\n",
    "plt.legend(frameon=False, fontsize=16, loc='best')"
   ]
  },
  {
   "cell_type": "code",
   "execution_count": 71,
   "metadata": {},
   "outputs": [
    {
     "name": "stdout",
     "output_type": "stream",
     "text": [
      "Normality of distribution:  NormaltestResult(statistic=544.5770045551502, pvalue=5.579637380545965e-119)\n",
      "Normality of distribution:  NormaltestResult(statistic=261.528012299789, pvalue=1.6214878452829618e-57)\n"
     ]
    }
   ],
   "source": [
    "import scipy.stats as stat\n",
    "\n",
    "print('Normality of distribution: ', stat.normaltest(control))\n",
    "print('Normality of distribution: ', stat.normaltest(exp))"
   ]
  },
  {
   "cell_type": "markdown",
   "metadata": {},
   "source": [
    "As we can see, both distributions are non-normal and skewed right. It is interesting to note that they are roughly the same shape, but the mean is shifted farther to the right in the experimental group. Whether this shift is significant remains to be seen, but at least we can tell there is a difference. Next, the normality function tests the null hypothesis that the distributions are normal. Given the extremely low *p*-value, we have strong evidence against the distributions being normal. These distribution shapes are expected though because it is more likely someone orders 15 items versus >100 items (no matter how delicious the Turkish delights may be!).\n",
    "\n",
    "Given the non-normal distributions, we will lean on the CLT for parameter estimation and hypothesis testing. Simply put, the CLT asserts that the sampling distribution of the sample mean will be approximately normal regardless of the distribution of the underlying sample. Because we have a sufficiently large sample size *n* (>30) for each group, we can be confident in our approximation despite the skewed distributions. We will create our sample distribution of sample means after checking all assumptions."
   ]
  },
  {
   "cell_type": "markdown",
   "metadata": {},
   "source": [
    "### 2.2.2 Independence"
   ]
  },
  {
   "cell_type": "markdown",
   "metadata": {},
   "source": [
    "The next assumption is independence both within and between groups. This assumption is easily satisfied because the quantity of items ordered by one shopper has no influence on the next shopper."
   ]
  },
  {
   "cell_type": "markdown",
   "metadata": {},
   "source": [
    "### 2.2.3 Random"
   ]
  },
  {
   "cell_type": "markdown",
   "metadata": {},
   "source": [
    "The last assumption is that samples are randomly chosen, meaning every observation has an equal chance of being selected. When we create the sampling distribution of sample mean, we will use numpy's `random.choice` function to ensure a random sample is generated (read [here](https://docs.scipy.org/doc/numpy-1.15.0/reference/generated/numpy.random.choice.html) for more details)."
   ]
  },
  {
   "cell_type": "markdown",
   "metadata": {},
   "source": [
    "### 2.3 Creating a sampling distribution of sample mean"
   ]
  },
  {
   "cell_type": "markdown",
   "metadata": {},
   "source": [
    "As mentioned earlier, the CLT allows us to create an approximately normal sampling distribution of the sample mean due to the sufficiently large sample size *n*, thus satisfying the normality assumption."
   ]
  },
  {
   "cell_type": "code",
   "execution_count": 10,
   "metadata": {},
   "outputs": [],
   "source": [
    "# create function to sample with replacement\n",
    "def get_sample(df, n):\n",
    "    sample = []\n",
    "    while len(sample) != n:\n",
    "        x = np.random.choice(df)\n",
    "        sample.append(x)\n",
    "    return sample\n",
    "\n",
    "# create function to calculate mean of the sample\n",
    "def get_sample_mean(sample):\n",
    "    return sum(sample)/len(sample)\n",
    "\n",
    "# combine functions to create a sample distribution\n",
    "# create a distribution size of 1000 and sample size of 500\n",
    "def create_sample_distribution(df, dist_size=1000, n=500):\n",
    "    sample_dist = [] \n",
    "    while len(sample_dist) != dist_size:\n",
    "        sample = get_sample(df, n)\n",
    "        sample_mean = get_sample_mean(sample)\n",
    "        sample_dist.append(sample_mean)\n",
    "        \n",
    "    return sample_dist"
   ]
  },
  {
   "cell_type": "code",
   "execution_count": 72,
   "metadata": {},
   "outputs": [],
   "source": [
    "# create sample distributions of sample mean for control and experimental\n",
    "ctrl_sample = create_sample_distribution(control)\n",
    "exp_sample = create_sample_distribution(exp)"
   ]
  },
  {
   "cell_type": "code",
   "execution_count": 73,
   "metadata": {
    "scrolled": false
   },
   "outputs": [
    {
     "name": "stderr",
     "output_type": "stream",
     "text": [
      "/anaconda3/envs/learn-env/lib/python3.6/site-packages/scipy/stats/stats.py:1713: FutureWarning: Using a non-tuple sequence for multidimensional indexing is deprecated; use `arr[tuple(seq)]` instead of `arr[seq]`. In the future this will be interpreted as an array index, `arr[np.array(seq)]`, which will result either in an error or a different result.\n",
      "  return np.add.reduce(sorted[indexer] * weights, axis=axis) / sumval\n"
     ]
    },
    {
     "data": {
      "text/plain": [
       "<matplotlib.legend.Legend at 0x1c23c20f28>"
      ]
     },
     "execution_count": 73,
     "metadata": {},
     "output_type": "execute_result"
    },
    {
     "data": {
      "image/png": "[encoded data removed]",
      "text/plain": [
       "<Figure size 1440x720 with 1 Axes>"
      ]
     },
     "metadata": {},
     "output_type": "display_data"
    }
   ],
   "source": [
    "plt.figure(figsize = (20, 10))\n",
    "sns.distplot(ctrl_sample, label='Control')\n",
    "sns.distplot(exp_sample, label='Experimental')\n",
    "plt.title('Sampling distributions of sample mean', fontsize=16)\n",
    "plt.xlabel('quantity of product ordered', fontsize=16)\n",
    "plt.legend(frameon=False, fontsize=16, loc='best')"
   ]
  },
  {
   "cell_type": "markdown",
   "metadata": {},
   "source": [
    "Thanks to the CLT, the sampling distributions are normal now. We observe a clear difference in the mean quantity of product ordered (~22 for the control versus ~27 for the experimental) between the two groups, with minimal overlap."
   ]
  },
  {
   "cell_type": "markdown",
   "metadata": {},
   "source": [
    "# 3 Two sample *t*-test"
   ]
  },
  {
   "cell_type": "markdown",
   "metadata": {},
   "source": [
    "### 3.1 Hypotheses and Type I & II errors"
   ]
  },
  {
   "cell_type": "markdown",
   "metadata": {},
   "source": [
    "The null and alternative hypotheses are as follows:\n",
    "\n",
    "$H_o:$ There is no difference in the mean quantity of product ordered when comparing customers who did not receive a discount and customers with a discount\n",
    "\n",
    "\n",
    "$H_a:$ The mean quantity of product ordered by customers who received a discount should be greater than 21.7, the mean quantity of product ordered by customers without a discount\n",
    "\n",
    "We set the significance level ($\\alpha$) to 0.05 or 5%. In other words, this is the $\\alpha$ value we are comfortable with for making a Type I error which we consider to be more serious than a Type II error. It is important to identify these errors early on so we can improve the test design. With this in mind, what we are trying to do is minimize the probability of committing a Type I error by maximizing the power (probability of making the correct decision when $H_a$ is true). This is one of the reasons why we chose a large sample size.\n",
    "\n",
    "**Type I error**: reject 'discount amount has no effect' when it has no effect (i.e. keep offering discounts when it has no effect, resulting in lower revenue)\n",
    "\n",
    "**Type II error**: accept 'discount amount has no effect' when it does have an effect (i.e. offer no discounts when it actually has an effect on quantity of product ordered, fail to capture potential revenue)"
   ]
  },
  {
   "cell_type": "markdown",
   "metadata": {},
   "source": [
    "### 3.2 Welch's *t*-test"
   ]
  },
  {
   "cell_type": "markdown",
   "metadata": {},
   "source": [
    "To determine whether to use a Student or Welch's *t*-test, we test whether the sample size and population variances are equal. If the population variance assumption is violated, then we use Welch's adaptation."
   ]
  },
  {
   "cell_type": "code",
   "execution_count": 75,
   "metadata": {},
   "outputs": [
    {
     "data": {
      "text/plain": [
       "False"
      ]
     },
     "execution_count": 75,
     "metadata": {},
     "output_type": "execute_result"
    }
   ],
   "source": [
    "# test whether variances are equal\n",
    "np.var(control) == np.var(exp)"
   ]
  },
  {
   "cell_type": "markdown",
   "metadata": {},
   "source": [
    "Because the two population variances are not equal, we perform Welch's *t*-test using the `ttest_ind` function (read [here](https://docs.scipy.org/doc/scipy/reference/generated/scipy.stats.ttest_ind.html) for more details)."
   ]
  },
  {
   "cell_type": "code",
   "execution_count": 76,
   "metadata": {},
   "outputs": [
    {
     "data": {
      "text/plain": [
       "Ttest_indResult(statistic=140.566992051256, pvalue=0.0)"
      ]
     },
     "execution_count": 76,
     "metadata": {},
     "output_type": "execute_result"
    }
   ],
   "source": [
    "# set equal_var to False to perform Welch's t-test\n",
    "stat.ttest_ind(exp_sample, ctrl_sample, equal_var=False)"
   ]
  },
  {
   "cell_type": "markdown",
   "metadata": {},
   "source": [
    "The `ttest_ind` function returns a two-tailed p-value. In order to obtain the right-tailed value, we simply divide the two-tailed value by two. In this scenario, the p-value remains zero. The probability of getting a test statistic of 140 or higher, if in fact the null hypothesis is true, is 0. In other words, the null hypothesis provides a very poor explanation of the data and **we find strong evidence that the quantity of product ordered is significantly greater than 21.7 items when a discount is applied**. The result confirms our intuition that people are likely to purchase more when a discount is available, in order to maximize savings."
   ]
  },
  {
   "cell_type": "markdown",
   "metadata": {},
   "source": [
    "### 3.3 Effect size"
   ]
  },
  {
   "cell_type": "markdown",
   "metadata": {},
   "source": [
    "We also need to calculate the magnitude of the difference (effect size) because when the results are statistically significant, it is also important to examine the practical significance. Our results may be significant due to a very large sample size, thus measuring the effect size - which is immune to sample size - allows us to determine if the difference is large enough to be meaningful. This is measured using Cohen's *d* where values of 0 - 0.2 have little or no effect and values of >= 0.8 have a large effect size."
   ]
  },
  {
   "cell_type": "code",
   "execution_count": 77,
   "metadata": {},
   "outputs": [
    {
     "name": "stdout",
     "output_type": "stream",
     "text": [
      "Cohen's d: 6.289492525228138\n"
     ]
    }
   ],
   "source": [
    "# function for calculating Cohen's d\n",
    "def Cohen_d(group1, group2):\n",
    "\n",
    "    diff = group1.mean()-group2.mean()\n",
    "\n",
    "    n1, n2 = len(group1), len(group2)\n",
    "    var1 = group1.var()\n",
    "    var2 = group2.var()\n",
    "\n",
    "    pooled_var = (n1*var1+n2*var2) / (n1+n2)\n",
    "  \n",
    "    d = diff / np.sqrt(pooled_var)\n",
    "    \n",
    "    return d\n",
    "\n",
    "# calculate Cohen's d for target and control samples\n",
    "print(\"Cohen's d:\" , Cohen_d(np.array(exp_sample), np.array(ctrl_sample)))"
   ]
  },
  {
   "cell_type": "markdown",
   "metadata": {},
   "source": [
    "Our Cohen's d value is much higher than 0.8 so we **interpret our results as having a large effect size**, which supports the conclusion from the hypothesis test."
   ]
  },
  {
   "cell_type": "markdown",
   "metadata": {},
   "source": [
    "### 3.4 One-way ANOVA"
   ]
  },
  {
   "cell_type": "markdown",
   "metadata": {},
   "source": [
    "Now that we know discount amount has a statistically significant effect on the quantity of product ordered, we are interested in the discount level at which we observe significance. Does a 5% discount have the same effect on quantity of product ordered as a 20% discount? To achieve this, we will perform a one-way ANOVA to test for differences among the different discount levels."
   ]
  },
  {
   "cell_type": "code",
   "execution_count": 16,
   "metadata": {},
   "outputs": [
    {
     "data": {
      "text/html": [
       "<div>\n",
       "<style scoped>\n",
       "    .dataframe tbody tr th:only-of-type {\n",
       "        vertical-align: middle;\n",
       "    }\n",
       "\n",
       "    .dataframe tbody tr th {\n",
       "        vertical-align: top;\n",
       "    }\n",
       "\n",
       "    .dataframe thead th {\n",
       "        text-align: right;\n",
       "    }\n",
       "</style>\n",
       "<table border=\"1\" class=\"dataframe\">\n",
       "  <thead>\n",
       "    <tr style=\"text-align: right;\">\n",
       "      <th></th>\n",
       "      <th>count</th>\n",
       "      <th>mean</th>\n",
       "      <th>std</th>\n",
       "      <th>min</th>\n",
       "      <th>25%</th>\n",
       "      <th>50%</th>\n",
       "      <th>75%</th>\n",
       "      <th>max</th>\n",
       "    </tr>\n",
       "    <tr>\n",
       "      <th>Discount</th>\n",
       "      <th></th>\n",
       "      <th></th>\n",
       "      <th></th>\n",
       "      <th></th>\n",
       "      <th></th>\n",
       "      <th></th>\n",
       "      <th></th>\n",
       "      <th></th>\n",
       "    </tr>\n",
       "  </thead>\n",
       "  <tbody>\n",
       "    <tr>\n",
       "      <th>0.00</th>\n",
       "      <td>1317.0</td>\n",
       "      <td>21.715262</td>\n",
       "      <td>17.507493</td>\n",
       "      <td>1.0</td>\n",
       "      <td>10.0</td>\n",
       "      <td>18.0</td>\n",
       "      <td>30.0</td>\n",
       "      <td>130.0</td>\n",
       "    </tr>\n",
       "    <tr>\n",
       "      <th>0.01</th>\n",
       "      <td>1.0</td>\n",
       "      <td>2.000000</td>\n",
       "      <td>NaN</td>\n",
       "      <td>2.0</td>\n",
       "      <td>2.0</td>\n",
       "      <td>2.0</td>\n",
       "      <td>2.0</td>\n",
       "      <td>2.0</td>\n",
       "    </tr>\n",
       "    <tr>\n",
       "      <th>0.02</th>\n",
       "      <td>2.0</td>\n",
       "      <td>2.000000</td>\n",
       "      <td>1.414214</td>\n",
       "      <td>1.0</td>\n",
       "      <td>1.5</td>\n",
       "      <td>2.0</td>\n",
       "      <td>2.5</td>\n",
       "      <td>3.0</td>\n",
       "    </tr>\n",
       "    <tr>\n",
       "      <th>0.03</th>\n",
       "      <td>3.0</td>\n",
       "      <td>1.666667</td>\n",
       "      <td>0.577350</td>\n",
       "      <td>1.0</td>\n",
       "      <td>1.5</td>\n",
       "      <td>2.0</td>\n",
       "      <td>2.0</td>\n",
       "      <td>2.0</td>\n",
       "    </tr>\n",
       "    <tr>\n",
       "      <th>0.04</th>\n",
       "      <td>1.0</td>\n",
       "      <td>1.000000</td>\n",
       "      <td>NaN</td>\n",
       "      <td>1.0</td>\n",
       "      <td>1.0</td>\n",
       "      <td>1.0</td>\n",
       "      <td>1.0</td>\n",
       "      <td>1.0</td>\n",
       "    </tr>\n",
       "    <tr>\n",
       "      <th>0.05</th>\n",
       "      <td>185.0</td>\n",
       "      <td>28.010811</td>\n",
       "      <td>22.187685</td>\n",
       "      <td>1.0</td>\n",
       "      <td>14.0</td>\n",
       "      <td>20.0</td>\n",
       "      <td>40.0</td>\n",
       "      <td>120.0</td>\n",
       "    </tr>\n",
       "    <tr>\n",
       "      <th>0.06</th>\n",
       "      <td>1.0</td>\n",
       "      <td>2.000000</td>\n",
       "      <td>NaN</td>\n",
       "      <td>2.0</td>\n",
       "      <td>2.0</td>\n",
       "      <td>2.0</td>\n",
       "      <td>2.0</td>\n",
       "      <td>2.0</td>\n",
       "    </tr>\n",
       "    <tr>\n",
       "      <th>0.10</th>\n",
       "      <td>173.0</td>\n",
       "      <td>25.236994</td>\n",
       "      <td>21.186503</td>\n",
       "      <td>2.0</td>\n",
       "      <td>10.0</td>\n",
       "      <td>20.0</td>\n",
       "      <td>30.0</td>\n",
       "      <td>130.0</td>\n",
       "    </tr>\n",
       "    <tr>\n",
       "      <th>0.15</th>\n",
       "      <td>157.0</td>\n",
       "      <td>28.382166</td>\n",
       "      <td>20.923099</td>\n",
       "      <td>2.0</td>\n",
       "      <td>15.0</td>\n",
       "      <td>21.0</td>\n",
       "      <td>40.0</td>\n",
       "      <td>100.0</td>\n",
       "    </tr>\n",
       "    <tr>\n",
       "      <th>0.20</th>\n",
       "      <td>161.0</td>\n",
       "      <td>27.024845</td>\n",
       "      <td>18.832801</td>\n",
       "      <td>2.0</td>\n",
       "      <td>12.0</td>\n",
       "      <td>21.0</td>\n",
       "      <td>40.0</td>\n",
       "      <td>100.0</td>\n",
       "    </tr>\n",
       "    <tr>\n",
       "      <th>0.25</th>\n",
       "      <td>154.0</td>\n",
       "      <td>28.240260</td>\n",
       "      <td>20.120570</td>\n",
       "      <td>2.0</td>\n",
       "      <td>15.0</td>\n",
       "      <td>25.0</td>\n",
       "      <td>36.0</td>\n",
       "      <td>120.0</td>\n",
       "    </tr>\n",
       "  </tbody>\n",
       "</table>\n",
       "</div>"
      ],
      "text/plain": [
       "           count       mean        std  min   25%   50%   75%    max\n",
       "Discount                                                            \n",
       "0.00      1317.0  21.715262  17.507493  1.0  10.0  18.0  30.0  130.0\n",
       "0.01         1.0   2.000000        NaN  2.0   2.0   2.0   2.0    2.0\n",
       "0.02         2.0   2.000000   1.414214  1.0   1.5   2.0   2.5    3.0\n",
       "0.03         3.0   1.666667   0.577350  1.0   1.5   2.0   2.0    2.0\n",
       "0.04         1.0   1.000000        NaN  1.0   1.0   1.0   1.0    1.0\n",
       "0.05       185.0  28.010811  22.187685  1.0  14.0  20.0  40.0  120.0\n",
       "0.06         1.0   2.000000        NaN  2.0   2.0   2.0   2.0    2.0\n",
       "0.10       173.0  25.236994  21.186503  2.0  10.0  20.0  30.0  130.0\n",
       "0.15       157.0  28.382166  20.923099  2.0  15.0  21.0  40.0  100.0\n",
       "0.20       161.0  27.024845  18.832801  2.0  12.0  21.0  40.0  100.0\n",
       "0.25       154.0  28.240260  20.120570  2.0  15.0  25.0  36.0  120.0"
      ]
     },
     "execution_count": 16,
     "metadata": {},
     "output_type": "execute_result"
    }
   ],
   "source": [
    "orders['Quantity'].groupby(orders['Discount']).describe()"
   ]
  },
  {
   "cell_type": "markdown",
   "metadata": {},
   "source": [
    "There are 10 discount levels, with the minimum being a 1% discount and the maximum, a 25% discount. For three levels (1%, 4% and 6%), only 1 shopper each received these discounts. We will use [statsmodels](https://www.statsmodels.org/stable/index.html) to get a bit more information from the ANOVA model. Before beginning, there are three primary assumptions we check prior to conducting an ANOVA:\n",
    "\n",
    "1. The response variables (discount level) have a normal population distribution. \n",
    "2. The population variances are equal.\n",
    "3. The response variables are independent.\n",
    "\n",
    "The first two assumptions are violated but they are not considered serious because the sampling distribution is quite robust, given the large sample size. As a result we can proceed with the ANOVA test."
   ]
  },
  {
   "cell_type": "code",
   "execution_count": 17,
   "metadata": {},
   "outputs": [],
   "source": [
    "import statsmodels.api as sm\n",
    "from statsmodels.formula.api import ols\n",
    "from statsmodels.stats.multicomp import pairwise_tukeyhsd\n",
    "from statsmodels.stats.multicomp import MultiComparison\n",
    "\n",
    "# wrap with C() to indicate categorical variable\n",
    "results = ols('Quantity ~ C(Discount)', data=orders).fit()"
   ]
  },
  {
   "cell_type": "code",
   "execution_count": 18,
   "metadata": {},
   "outputs": [
    {
     "name": "stdout",
     "output_type": "stream",
     "text": [
      "                    sum_sq      df         F        PR(>F)\n",
      "C(Discount)   21258.403604    10.0  6.011811  4.704231e-09\n",
      "Residual     758141.232591  2144.0       NaN           NaN\n"
     ]
    }
   ],
   "source": [
    "aov_table = sm.stats.anova_lm(results, typ=2)\n",
    "print(aov_table)"
   ]
  },
  {
   "cell_type": "markdown",
   "metadata": {},
   "source": [
    "The overall model is significant, *p* = 4.7e-09, which indicates a significant difference between group means but it does not provide any statistical evidence as to which means are statistically different. We need to perform a multiple comparisons analysis to determine which discount levels have a statistically significant effect on the quantity of product in an order. To do this, compare all possible pairwise means using Tukey's HSD test (read more about it [here](https://en.wikipedia.org/wiki/Tukey%27s_range_test)). "
   ]
  },
  {
   "cell_type": "code",
   "execution_count": 19,
   "metadata": {},
   "outputs": [
    {
     "name": "stdout",
     "output_type": "stream",
     "text": [
      "Multiple Comparison of Means - Tukey HSD,FWER=0.05\n",
      "==============================================\n",
      "group1 group2 meandiff  lower    upper  reject\n",
      "----------------------------------------------\n",
      " 0.0    0.01  -19.7153 -80.3306 40.9001 False \n",
      " 0.0    0.02  -19.7153 -62.593  23.1625 False \n",
      " 0.0    0.03  -20.0486 -55.0714 14.9742 False \n",
      " 0.0    0.04  -20.7153 -81.3306 39.9001 False \n",
      " 0.0    0.05   6.2955   1.5381   11.053  True \n",
      " 0.0    0.06  -19.7153 -80.3306 40.9001 False \n",
      " 0.0    0.1    3.5217  -1.3783   8.4217 False \n",
      " 0.0    0.15   6.6669   1.551   11.7828  True \n",
      " 0.0    0.2    5.3096   0.2508  10.3684  True \n",
      " 0.0    0.25   6.525    1.3647  11.6852  True \n",
      " 0.01   0.02    0.0    -74.2101 74.2101 False \n",
      " 0.01   0.03  -0.3333  -70.2993 69.6326 False \n",
      " 0.01   0.04    -1.0   -86.6905 84.6905 False \n",
      " 0.01   0.05  26.0108  -34.745  86.7667 False \n",
      " 0.01   0.06    0.0    -85.6905 85.6905 False \n",
      " 0.01   0.1    23.237  -37.5302 84.0042 False \n",
      " 0.01   0.15  26.3822  -34.4028 87.1671 False \n",
      " 0.01   0.2   25.0248  -35.7554  85.805 False \n",
      " 0.01   0.25  26.2403  -34.5485  87.029 False \n",
      " 0.02   0.03  -0.3333  -55.6463 54.9796 False \n",
      " 0.02   0.04    -1.0   -75.2101 73.2101 False \n",
      " 0.02   0.05  26.0108  -17.0654  69.087 False \n",
      " 0.02   0.06    0.0    -74.2101 74.2101 False \n",
      " 0.02   0.1    23.237  -19.8552 66.3292 False \n",
      " 0.02   0.15  26.3822  -16.7351 69.4994 False \n",
      " 0.02   0.2   25.0248  -18.0857 68.1354 False \n",
      " 0.02   0.25  26.2403  -16.8823 69.3628 False \n",
      " 0.03   0.04  -0.6667  -70.6326 69.2993 False \n",
      " 0.03   0.05  26.3441  -8.9214  61.6096 False \n",
      " 0.03   0.06   0.3333  -69.6326 70.2993 False \n",
      " 0.03   0.1   23.5703  -11.7147 58.8553 False \n",
      " 0.03   0.15  26.7155  -8.6001  62.0311 False \n",
      " 0.03   0.2   25.3582  -9.9492  60.6656 False \n",
      " 0.03   0.25  26.5736  -8.7485  61.8957 False \n",
      " 0.04   0.05  27.0108  -33.745  87.7667 False \n",
      " 0.04   0.06    1.0    -84.6905 86.6905 False \n",
      " 0.04   0.1    24.237  -36.5302 85.0042 False \n",
      " 0.04   0.15  27.3822  -33.4028 88.1671 False \n",
      " 0.04   0.2   26.0248  -34.7554  86.805 False \n",
      " 0.04   0.25  27.2403  -33.5485  88.029 False \n",
      " 0.05   0.06  -26.0108 -86.7667  34.745 False \n",
      " 0.05   0.1   -2.7738  -9.1822   3.6346 False \n",
      " 0.05   0.15   0.3714  -6.2036   6.9463 False \n",
      " 0.05   0.2    -0.986  -7.5166   5.5447 False \n",
      " 0.05   0.25   0.2294  -6.3801   6.839  False \n",
      " 0.06   0.1    23.237  -37.5302 84.0042 False \n",
      " 0.06   0.15  26.3822  -34.4028 87.1671 False \n",
      " 0.06   0.2   25.0248  -35.7554  85.805 False \n",
      " 0.06   0.25  26.2403  -34.5485  87.029 False \n",
      " 0.1    0.15   3.1452  -3.5337   9.824  False \n",
      " 0.1    0.2    1.7879  -4.8474   8.4231 False \n",
      " 0.1    0.25   3.0033  -3.7096   9.7161 False \n",
      " 0.15   0.2   -1.3573  -8.1536   5.4389 False \n",
      " 0.15   0.25  -0.1419   -7.014   6.7302 False \n",
      " 0.2    0.25   1.2154  -5.6143   8.0451 False \n",
      "----------------------------------------------\n"
     ]
    }
   ],
   "source": [
    "mc = MultiComparison(orders['Quantity'], orders['Discount'])\n",
    "mc_results = mc.tukeyhsd()\n",
    "print(mc_results)"
   ]
  },
  {
   "cell_type": "markdown",
   "metadata": {},
   "source": [
    "Remember the null hypothesis is that there are no differences between the means. Looking at the results, we reject the null hypothesis at the 5, 15, 20 and 25% discount level when compared with the control group. In other words, **when discounts of 5, 15, 20 and 25% are applied, we observe a statistically significant effect on the quantity of product ordered**."
   ]
  },
  {
   "cell_type": "markdown",
   "metadata": {},
   "source": [
    "# 4 More hypothesis tests"
   ]
  },
  {
   "cell_type": "markdown",
   "metadata": {},
   "source": [
    "In addition to addressing our main hypothesis, there are several other questions that we are interested in answering which may be of value to the Northwind Traders."
   ]
  },
  {
   "cell_type": "markdown",
   "metadata": {},
   "source": [
    "### 4.1 Does supply region have a statistically significant effect on unit price?"
   ]
  },
  {
   "cell_type": "markdown",
   "metadata": {},
   "source": [
    "The company may be motivated to discover if the supply region has a statistically significant effect on unit price. If a product is more expensive in one region, then the company should try to source the product from a different region where the price is lower. \n",
    "\n",
    "The null and alternative hypotheses are as follows:\n",
    "\n",
    "$H_o:$ There is no difference in the mean unit price among regions\n",
    "\n",
    "$H_a:$ There is at least one region with a different mean unit price"
   ]
  },
  {
   "cell_type": "code",
   "execution_count": 20,
   "metadata": {},
   "outputs": [
    {
     "data": {
      "text/plain": [
       "North America      462\n",
       "Western Europe     462\n",
       "Northern Europe    308\n",
       "Southern Europe    231\n",
       "Scandinavia        154\n",
       "Eastern Asia       154\n",
       "British Isles      154\n",
       "South-East Asia     77\n",
       "NSW                 77\n",
       "Victoria            77\n",
       "South America       77\n",
       "Name: Region, dtype: int64"
      ]
     },
     "execution_count": 20,
     "metadata": {},
     "output_type": "execute_result"
    }
   ],
   "source": [
    "c.execute('''SELECT Region, UnitPrice\n",
    "             FROM Supplier\n",
    "             JOIN Product\n",
    "             ON SupplierID;''')\n",
    "\n",
    "supply = pd.DataFrame(c.fetchall())\n",
    "supply.columns = [i[0] for i in c.description]\n",
    "supply['Region'].value_counts()"
   ]
  },
  {
   "cell_type": "code",
   "execution_count": 21,
   "metadata": {},
   "outputs": [
    {
     "name": "stdout",
     "output_type": "stream",
     "text": [
      "                 sum_sq      df             F  PR(>F)\n",
      "C(Region)  1.148069e-25    10.0  1.012229e-29     1.0\n",
      "Residual   2.520190e+06  2222.0           NaN     NaN\n"
     ]
    }
   ],
   "source": [
    "results = ols('UnitPrice ~ C(Region)', data=supply).fit()\n",
    "aov_table = sm.stats.anova_lm(results, typ=2)\n",
    "print(aov_table)"
   ]
  },
  {
   "cell_type": "markdown",
   "metadata": {},
   "source": [
    "The overall model is not significant, p = 1, which indicates a non-significant difference between group means. As a result, we accept the null hypothesis that there is **no significant difference in mean unit price between regions and reject the alternative hypothesis**. This is surprising because each region produces some specialty items which leads one to believe that there would be a difference in unit price. For example, one region may produce goods that are unique to that area and as a result, they can charge a higher unit price. But it is not true in this scenario, which may imply regions are more interconnected than it seems."
   ]
  },
  {
   "cell_type": "markdown",
   "metadata": {},
   "source": [
    "### 4.2 Is the mean freight price significantly different between shipping companies?"
   ]
  },
  {
   "cell_type": "code",
   "execution_count": 22,
   "metadata": {
    "scrolled": true
   },
   "outputs": [
    {
     "data": {
      "text/html": [
       "<div>\n",
       "<style scoped>\n",
       "    .dataframe tbody tr th:only-of-type {\n",
       "        vertical-align: middle;\n",
       "    }\n",
       "\n",
       "    .dataframe tbody tr th {\n",
       "        vertical-align: top;\n",
       "    }\n",
       "\n",
       "    .dataframe thead th {\n",
       "        text-align: right;\n",
       "    }\n",
       "</style>\n",
       "<table border=\"1\" class=\"dataframe\">\n",
       "  <thead>\n",
       "    <tr style=\"text-align: right;\">\n",
       "      <th></th>\n",
       "      <th>CompanyName</th>\n",
       "      <th>Freight</th>\n",
       "      <th>Id</th>\n",
       "    </tr>\n",
       "  </thead>\n",
       "  <tbody>\n",
       "    <tr>\n",
       "      <th>0</th>\n",
       "      <td>Federal Shipping</td>\n",
       "      <td>32.38</td>\n",
       "      <td>10248</td>\n",
       "    </tr>\n",
       "    <tr>\n",
       "      <th>1</th>\n",
       "      <td>Speedy Express</td>\n",
       "      <td>11.61</td>\n",
       "      <td>10249</td>\n",
       "    </tr>\n",
       "    <tr>\n",
       "      <th>2</th>\n",
       "      <td>United Package</td>\n",
       "      <td>65.83</td>\n",
       "      <td>10250</td>\n",
       "    </tr>\n",
       "    <tr>\n",
       "      <th>3</th>\n",
       "      <td>Speedy Express</td>\n",
       "      <td>41.34</td>\n",
       "      <td>10251</td>\n",
       "    </tr>\n",
       "    <tr>\n",
       "      <th>4</th>\n",
       "      <td>United Package</td>\n",
       "      <td>51.30</td>\n",
       "      <td>10252</td>\n",
       "    </tr>\n",
       "  </tbody>\n",
       "</table>\n",
       "</div>"
      ],
      "text/plain": [
       "        CompanyName  Freight     Id\n",
       "0  Federal Shipping    32.38  10248\n",
       "1    Speedy Express    11.61  10249\n",
       "2    United Package    65.83  10250\n",
       "3    Speedy Express    41.34  10251\n",
       "4    United Package    51.30  10252"
      ]
     },
     "execution_count": 22,
     "metadata": {},
     "output_type": "execute_result"
    }
   ],
   "source": [
    "c.execute('''SELECT CompanyName, Freight, \"Order\".ID\n",
    "             FROM Shipper\n",
    "             JOIN \"Order\"\n",
    "             ON Shipper.ID = ShipVia;''')\n",
    "\n",
    "freight = pd.DataFrame(c.fetchall())\n",
    "freight.columns = [i[0] for i in c.description]\n",
    "freight.head()"
   ]
  },
  {
   "cell_type": "code",
   "execution_count": 23,
   "metadata": {},
   "outputs": [
    {
     "data": {
      "text/plain": [
       "United Package      326\n",
       "Federal Shipping    255\n",
       "Speedy Express      249\n",
       "Name: CompanyName, dtype: int64"
      ]
     },
     "execution_count": 23,
     "metadata": {},
     "output_type": "execute_result"
    }
   ],
   "source": [
    "freight['CompanyName'].value_counts()"
   ]
  },
  {
   "cell_type": "markdown",
   "metadata": {},
   "source": [
    "In this example, we will only look at mean freight prices between Federal Shipping and Speedy Express. Instead of performing a right-tailed test, we will conduct a **two-tailed test** this time.\n",
    "\n",
    "The null and alternative hypotheses are as follows:\n",
    "\n",
    "$H_o:$ There is no difference in the mean freight price between Federal Shipping and Speedy Express\n",
    "\n",
    "$H_a:$ There is a difference in the mean freight price between Federal Shipping and Speedy Express"
   ]
  },
  {
   "cell_type": "code",
   "execution_count": 24,
   "metadata": {},
   "outputs": [],
   "source": [
    "# create two populations\n",
    "fedship = freight[freight['CompanyName'] == 'Federal Shipping']\n",
    "fedship = fedship['Freight']\n",
    "speedship = freight[freight['CompanyName'] != 'Speedy Express']\n",
    "speedship = speedship['Freight']"
   ]
  },
  {
   "cell_type": "code",
   "execution_count": 25,
   "metadata": {},
   "outputs": [
    {
     "name": "stderr",
     "output_type": "stream",
     "text": [
      "/anaconda3/envs/learn-env/lib/python3.6/site-packages/scipy/stats/stats.py:1713: FutureWarning: Using a non-tuple sequence for multidimensional indexing is deprecated; use `arr[tuple(seq)]` instead of `arr[seq]`. In the future this will be interpreted as an array index, `arr[np.array(seq)]`, which will result either in an error or a different result.\n",
      "  return np.add.reduce(sorted[indexer] * weights, axis=axis) / sumval\n"
     ]
    },
    {
     "data": {
      "text/plain": [
       "<matplotlib.legend.Legend at 0x1c1f2542e8>"
      ]
     },
     "execution_count": 25,
     "metadata": {},
     "output_type": "execute_result"
    },
    {
     "data": {
      "image/png": "[encoded data removed]",
      "text/plain": [
       "<Figure size 1440x720 with 1 Axes>"
      ]
     },
     "metadata": {},
     "output_type": "display_data"
    }
   ],
   "source": [
    "# check for normality\n",
    "plt.figure(figsize=(20, 10))\n",
    "sns.distplot(fedship, label='Federal Shipping')\n",
    "sns.distplot(speedship, label='Speedy Express')\n",
    "plt.title('Distribution of freight price', fontsize=16)\n",
    "plt.xlabel('freight price', fontsize=16)\n",
    "plt.legend(frameon=False, fontsize=16, loc='best')"
   ]
  },
  {
   "cell_type": "code",
   "execution_count": 26,
   "metadata": {},
   "outputs": [],
   "source": [
    "# create sampling distribution of sample mean, use sample size of 200\n",
    "f_ship = create_sample_distribution(fedship, n=200)\n",
    "s_ship = create_sample_distribution(speedship, n=200)"
   ]
  },
  {
   "cell_type": "code",
   "execution_count": 27,
   "metadata": {},
   "outputs": [
    {
     "data": {
      "text/plain": [
       "False"
      ]
     },
     "execution_count": 27,
     "metadata": {},
     "output_type": "execute_result"
    }
   ],
   "source": [
    "# test population variances to determine which t-test to use\n",
    "np.var(fedship) == np.var(speedship)"
   ]
  },
  {
   "cell_type": "code",
   "execution_count": 28,
   "metadata": {},
   "outputs": [
    {
     "data": {
      "text/plain": [
       "Ttest_indResult(statistic=9.880029709530183, pvalue=1.6669852472020542e-22)"
      ]
     },
     "execution_count": 28,
     "metadata": {},
     "output_type": "execute_result"
    }
   ],
   "source": [
    "# set equal_var to False to perform Welch's t-test\n",
    "stat.ttest_ind(s_ship, f_ship, equal_var=False)"
   ]
  },
  {
   "cell_type": "code",
   "execution_count": 29,
   "metadata": {},
   "outputs": [
    {
     "name": "stdout",
     "output_type": "stream",
     "text": [
      "Cohen's d: 0.44206945101637596\n"
     ]
    }
   ],
   "source": [
    "# calculate effect size\n",
    "print(\"Cohen's d:\" , Cohen_d(np.array(s_ship), np.array(f_ship)))"
   ]
  },
  {
   "cell_type": "markdown",
   "metadata": {},
   "source": [
    "The probability of getting a test statistic of 9.88, if in fact the null hypothesis is true, is 1.6e-22. In other words, we reject the null hypothesis and **we find strong evidence that the mean freight price is significantly different between Speedy Express and Federal Shipping**. However, while our result is statistically significant, we interpret Cohen's d-value as only having a medium effect size (0.2 - 0.5). This highlights the importance of examining the effect size, especially when the difference is small, because very small differences will be statistically significant with a large sample size. In conclusion, it may be worth considering one shipping carrier versus the other to select the carrier with the lowest freight price."
   ]
  },
  {
   "cell_type": "markdown",
   "metadata": {},
   "source": [
    "### 4.3 Is there a statistical difference in the mean quantity of products ordered by customers from Eastern Europe?"
   ]
  },
  {
   "cell_type": "code",
   "execution_count": 38,
   "metadata": {},
   "outputs": [
    {
     "data": {
      "text/html": [
       "<div>\n",
       "<style scoped>\n",
       "    .dataframe tbody tr th:only-of-type {\n",
       "        vertical-align: middle;\n",
       "    }\n",
       "\n",
       "    .dataframe tbody tr th {\n",
       "        vertical-align: top;\n",
       "    }\n",
       "\n",
       "    .dataframe thead th {\n",
       "        text-align: right;\n",
       "    }\n",
       "</style>\n",
       "<table border=\"1\" class=\"dataframe\">\n",
       "  <thead>\n",
       "    <tr style=\"text-align: right;\">\n",
       "      <th></th>\n",
       "      <th>Region</th>\n",
       "      <th>Quantity</th>\n",
       "      <th>OrderId</th>\n",
       "    </tr>\n",
       "  </thead>\n",
       "  <tbody>\n",
       "    <tr>\n",
       "      <th>0</th>\n",
       "      <td>Western Europe</td>\n",
       "      <td>12</td>\n",
       "      <td>10248</td>\n",
       "    </tr>\n",
       "    <tr>\n",
       "      <th>1</th>\n",
       "      <td>Western Europe</td>\n",
       "      <td>10</td>\n",
       "      <td>10248</td>\n",
       "    </tr>\n",
       "    <tr>\n",
       "      <th>2</th>\n",
       "      <td>Western Europe</td>\n",
       "      <td>5</td>\n",
       "      <td>10248</td>\n",
       "    </tr>\n",
       "    <tr>\n",
       "      <th>3</th>\n",
       "      <td>Western Europe</td>\n",
       "      <td>9</td>\n",
       "      <td>10249</td>\n",
       "    </tr>\n",
       "    <tr>\n",
       "      <th>4</th>\n",
       "      <td>Western Europe</td>\n",
       "      <td>40</td>\n",
       "      <td>10249</td>\n",
       "    </tr>\n",
       "  </tbody>\n",
       "</table>\n",
       "</div>"
      ],
      "text/plain": [
       "           Region  Quantity  OrderId\n",
       "0  Western Europe        12    10248\n",
       "1  Western Europe        10    10248\n",
       "2  Western Europe         5    10248\n",
       "3  Western Europe         9    10249\n",
       "4  Western Europe        40    10249"
      ]
     },
     "execution_count": 38,
     "metadata": {},
     "output_type": "execute_result"
    }
   ],
   "source": [
    "c.execute('''SELECT Region, Quantity, OrderId\n",
    "             FROM Customer\n",
    "             LEFT JOIN \"Order\"\n",
    "             ON Customer.Id\n",
    "             LEFT JOIN OrderDetail\n",
    "             ON OrderId;''')\n",
    "\n",
    "cust = pd.DataFrame(c.fetchall())\n",
    "cust.columns = [i[0] for i in c.description]\n",
    "cust.head()"
   ]
  },
  {
   "cell_type": "code",
   "execution_count": 43,
   "metadata": {},
   "outputs": [
    {
     "data": {
      "text/plain": [
       "Western Europe     60340\n",
       "North America      34480\n",
       "South America      34480\n",
       "Southern Europe    21550\n",
       "British Isles      17240\n",
       "Central America    10775\n",
       "Northern Europe     8620\n",
       "Scandinavia         6465\n",
       "Eastern Europe      2155\n",
       "Name: Region, dtype: int64"
      ]
     },
     "execution_count": 43,
     "metadata": {},
     "output_type": "execute_result"
    }
   ],
   "source": [
    "cust['Region'].value_counts()"
   ]
  },
  {
   "cell_type": "code",
   "execution_count": 42,
   "metadata": {},
   "outputs": [
    {
     "data": {
      "text/html": [
       "<div>\n",
       "<style scoped>\n",
       "    .dataframe tbody tr th:only-of-type {\n",
       "        vertical-align: middle;\n",
       "    }\n",
       "\n",
       "    .dataframe tbody tr th {\n",
       "        vertical-align: top;\n",
       "    }\n",
       "\n",
       "    .dataframe thead th {\n",
       "        text-align: right;\n",
       "    }\n",
       "</style>\n",
       "<table border=\"1\" class=\"dataframe\">\n",
       "  <thead>\n",
       "    <tr style=\"text-align: right;\">\n",
       "      <th></th>\n",
       "      <th>Quantity</th>\n",
       "      <th>OrderId</th>\n",
       "    </tr>\n",
       "  </thead>\n",
       "  <tbody>\n",
       "    <tr>\n",
       "      <th>count</th>\n",
       "      <td>196105.000000</td>\n",
       "      <td>196105.000000</td>\n",
       "    </tr>\n",
       "    <tr>\n",
       "      <th>mean</th>\n",
       "      <td>23.812993</td>\n",
       "      <td>10659.375870</td>\n",
       "    </tr>\n",
       "    <tr>\n",
       "      <th>std</th>\n",
       "      <td>19.017681</td>\n",
       "      <td>241.322637</td>\n",
       "    </tr>\n",
       "    <tr>\n",
       "      <th>min</th>\n",
       "      <td>1.000000</td>\n",
       "      <td>10248.000000</td>\n",
       "    </tr>\n",
       "    <tr>\n",
       "      <th>25%</th>\n",
       "      <td>10.000000</td>\n",
       "      <td>10451.000000</td>\n",
       "    </tr>\n",
       "    <tr>\n",
       "      <th>50%</th>\n",
       "      <td>20.000000</td>\n",
       "      <td>10657.000000</td>\n",
       "    </tr>\n",
       "    <tr>\n",
       "      <th>75%</th>\n",
       "      <td>30.000000</td>\n",
       "      <td>10863.000000</td>\n",
       "    </tr>\n",
       "    <tr>\n",
       "      <th>max</th>\n",
       "      <td>130.000000</td>\n",
       "      <td>11077.000000</td>\n",
       "    </tr>\n",
       "  </tbody>\n",
       "</table>\n",
       "</div>"
      ],
      "text/plain": [
       "            Quantity        OrderId\n",
       "count  196105.000000  196105.000000\n",
       "mean       23.812993   10659.375870\n",
       "std        19.017681     241.322637\n",
       "min         1.000000   10248.000000\n",
       "25%        10.000000   10451.000000\n",
       "50%        20.000000   10657.000000\n",
       "75%        30.000000   10863.000000\n",
       "max       130.000000   11077.000000"
      ]
     },
     "execution_count": 42,
     "metadata": {},
     "output_type": "execute_result"
    }
   ],
   "source": [
    "cust.describe()"
   ]
  },
  {
   "cell_type": "markdown",
   "metadata": {},
   "source": [
    "The mean amount of product ordered across all regions is 23.8. When we look at the quantity of items ordered by region, customers from Eastern Europe have the lowest total order volume. Is the mean quantity of items ordered by customers in Eastern Europe significantly lower than the population mean? If so, the company may want to increase marketing in Eastern Europe to drive more sales because it would mean there is space for growth. To answer this question, we perform a **left-tailed test** using the `ttest_1samp` function (read more about it [here](https://docs.scipy.org/doc/scipy/reference/generated/scipy.stats.ttest_1samp.html)).\n",
    "\n",
    "The null and alternative hypotheses are as follows:\n",
    "\n",
    "$H_o:$ The mean quantity of product ordered in Eastern Europe is 23.8\n",
    "\n",
    "$H_a:$ The mean quantity of product ordered in Eastern Europe is less than 23.8"
   ]
  },
  {
   "cell_type": "code",
   "execution_count": 46,
   "metadata": {},
   "outputs": [],
   "source": [
    "east = cust[cust['Region'] == 'Eastern Europe']\n",
    "east = east['Quantity']"
   ]
  },
  {
   "cell_type": "code",
   "execution_count": 47,
   "metadata": {},
   "outputs": [
    {
     "name": "stderr",
     "output_type": "stream",
     "text": [
      "/anaconda3/envs/learn-env/lib/python3.6/site-packages/scipy/stats/stats.py:1713: FutureWarning: Using a non-tuple sequence for multidimensional indexing is deprecated; use `arr[tuple(seq)]` instead of `arr[seq]`. In the future this will be interpreted as an array index, `arr[np.array(seq)]`, which will result either in an error or a different result.\n",
      "  return np.add.reduce(sorted[indexer] * weights, axis=axis) / sumval\n"
     ]
    },
    {
     "data": {
      "text/plain": [
       "<matplotlib.legend.Legend at 0x1c22959358>"
      ]
     },
     "execution_count": 47,
     "metadata": {},
     "output_type": "execute_result"
    },
    {
     "data": {
      "image/png": "[encoded data removed]",
      "text/plain": [
       "<Figure size 1440x720 with 1 Axes>"
      ]
     },
     "metadata": {},
     "output_type": "display_data"
    }
   ],
   "source": [
    "# check for normality\n",
    "plt.figure(figsize=(20, 10))\n",
    "sns.distplot(east, label='Eastern Europe')\n",
    "plt.title('Distribution of quantity ordered in Eastern Europe', fontsize=16)\n",
    "plt.xlabel('quantity ordered', fontsize=16)\n",
    "plt.legend(frameon=False, fontsize=16, loc='best')"
   ]
  },
  {
   "cell_type": "code",
   "execution_count": 52,
   "metadata": {},
   "outputs": [
    {
     "data": {
      "text/plain": [
       "Ttest_1sampResult(statistic=-0.167362207469404, pvalue=0.8671189310674754)"
      ]
     },
     "execution_count": 52,
     "metadata": {},
     "output_type": "execute_result"
    }
   ],
   "source": [
    "# create sample\n",
    "east_samp = create_sample_distribution(east)\n",
    "\n",
    "# perform one-sample t-test\n",
    "stat.ttest_1samp(east_samp, popmean=23.8)"
   ]
  },
  {
   "cell_type": "code",
   "execution_count": 64,
   "metadata": {},
   "outputs": [
    {
     "name": "stdout",
     "output_type": "stream",
     "text": [
      "Cohens d: -0.00529510591354578\n"
     ]
    }
   ],
   "source": [
    "# calculate effect size\n",
    "d = (np.mean(east_samp)-23.8) / np.std(east_samp)\n",
    "print('Cohens d:', d)"
   ]
  },
  {
   "cell_type": "markdown",
   "metadata": {},
   "source": [
    "The probability of getting a test statistic of -0.167, if in fact the null hypothesis is true, is 0.434 (remember to divide by two to get the p-value since `ttest_1samp` returns a two-tailed p-value). In other words, we **fail to reject the null hypothesis and we find strong evidence against the mean quantity of product ordered in Eastern Europe is less than the population mean**. The Cohen's d-value is also negligible, lending support to the results of the one-sample t-test. Even though customers from Eastern Europe don't order with the same frequency as their neighbors, their mean quantity per order is not significantly different. In aggregate, they simply make fewer orders."
   ]
  },
  {
   "cell_type": "markdown",
   "metadata": {},
   "source": [
    "# 5 Conclusion"
   ]
  },
  {
   "cell_type": "markdown",
   "metadata": {},
   "source": [
    "In summary, we find:\n",
    "\n",
    "* strong statistical evidence for a large and significant effect on the quantity of product ordered when discount amounts of 5, 15, 20 and 25% are applied\n",
    "* insufficient evidence for a significant difference in mean unit prices among supply regions\n",
    "* mild evidence for a significant difference in mean freight price between Federal Shipping and Speedy Express, making it worthwhile to choose a carrier with consistently lower prices\n",
    "* a lack of evidence for a difference in mean quantity of product ordered between customers in Western and Eastern Europe\n",
    "\n",
    "Building off of this project, more potential value can be gained by exploring the following topics:\n",
    "\n",
    "* removing discount amounts < 5% and removing 10% discount because no value is gained. Try experimenting with discount's larger than 25% to determine whether customers will continue to order more products per order\n",
    "* determine which shipping carrier has the lowest mean freight price. At the moment, we only know that there is a significant difference in price, but we don't know which carrier is the best"
   ]
  }
 ],
 "metadata": {
  "kernelspec": {
   "display_name": "Python 3",
   "language": "python",
   "name": "python3"
  },
  "language_info": {
   "codemirror_mode": {
    "name": "ipython",
    "version": 3
   },
   "file_extension": ".py",
   "mimetype": "text/x-python",
   "name": "python",
   "nbconvert_exporter": "python",
   "pygments_lexer": "ipython3",
   "version": "3.6.6"
  }
 },
 "nbformat": 4,
 "nbformat_minor": 2
}
